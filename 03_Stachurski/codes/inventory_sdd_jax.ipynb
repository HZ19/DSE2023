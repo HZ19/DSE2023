{
 "cells": [
  {
   "cell_type": "markdown",
   "id": "e34d1633",
   "metadata": {},
   "source": [
    "# Solve the inventory management problem using Python/JAX.\n",
    "\n",
    "John Stachurski\n",
    "Sun 13 Aug 2023 04:25:41"
   ]
  },
  {
   "cell_type": "code",
   "execution_count": 1,
   "id": "e09c4418",
   "metadata": {
    "execution": {
     "iopub.execute_input": "2023-08-18T05:12:05.919793Z",
     "iopub.status.busy": "2023-08-18T05:12:05.919666Z",
     "iopub.status.idle": "2023-08-18T05:12:06.734250Z",
     "shell.execute_reply": "2023-08-18T05:12:06.733689Z"
    }
   },
   "outputs": [],
   "source": [
    "from model import *\n",
    "from dp_algos import *\n",
    "from plot_code import *"
   ]
  },
  {
   "cell_type": "code",
   "execution_count": 2,
   "id": "fcea898a",
   "metadata": {
    "execution": {
     "iopub.execute_input": "2023-08-18T05:12:06.736244Z",
     "iopub.status.busy": "2023-08-18T05:12:06.736035Z",
     "iopub.status.idle": "2023-08-18T05:12:06.738752Z",
     "shell.execute_reply": "2023-08-18T05:12:06.738263Z"
    }
   },
   "outputs": [],
   "source": [
    "import jax\n",
    "import jax.numpy as jnp"
   ]
  },
  {
   "cell_type": "code",
   "execution_count": 3,
   "id": "a91c1159",
   "metadata": {
    "execution": {
     "iopub.execute_input": "2023-08-18T05:12:06.740319Z",
     "iopub.status.busy": "2023-08-18T05:12:06.740164Z",
     "iopub.status.idle": "2023-08-18T05:12:06.742515Z",
     "shell.execute_reply": "2023-08-18T05:12:06.742107Z"
    },
    "lines_to_next_cell": 1
   },
   "outputs": [],
   "source": [
    "jax.config.update(\"jax_enable_x64\", True)"
   ]
  },
  {
   "cell_type": "code",
   "execution_count": 4,
   "id": "6157301f",
   "metadata": {
    "execution": {
     "iopub.execute_input": "2023-08-18T05:12:06.744084Z",
     "iopub.status.busy": "2023-08-18T05:12:06.743934Z",
     "iopub.status.idle": "2023-08-18T05:12:06.746550Z",
     "shell.execute_reply": "2023-08-18T05:12:06.746142Z"
    }
   },
   "outputs": [],
   "source": [
    "@jax.jit  # Use JAX to JIT-compile f\n",
    "def f(y, a, d):\n",
    "    \" Inventory update. \"\n",
    "    return jnp.maximum(y - d, 0) + a "
   ]
  },
  {
   "cell_type": "code",
   "execution_count": 5,
   "id": "dd102ed6",
   "metadata": {
    "execution": {
     "iopub.execute_input": "2023-08-18T05:12:06.748102Z",
     "iopub.status.busy": "2023-08-18T05:12:06.747952Z",
     "iopub.status.idle": "2023-08-18T05:12:06.750413Z",
     "shell.execute_reply": "2023-08-18T05:12:06.750005Z"
    }
   },
   "outputs": [],
   "source": [
    "JAXModel = namedtuple(\"Model\", \n",
    "                      (\"params\", \"sizes\", \"arrays\"))"
   ]
  },
  {
   "cell_type": "code",
   "execution_count": 6,
   "id": "681a54da",
   "metadata": {
    "execution": {
     "iopub.execute_input": "2023-08-18T05:12:06.751948Z",
     "iopub.status.busy": "2023-08-18T05:12:06.751799Z",
     "iopub.status.idle": "2023-08-18T05:12:06.754514Z",
     "shell.execute_reply": "2023-08-18T05:12:06.754226Z"
    }
   },
   "outputs": [],
   "source": [
    "def create_sdd_inventory_model_jax():\n",
    "\n",
    "    model = create_sdd_inventory_model()\n",
    "    params = model.params\n",
    "    sizes = model.sizes\n",
    "    arrays = [jax.device_put(a) for a in model.arrays]\n",
    "\n",
    "    return JAXModel(params, sizes, arrays)"
   ]
  },
  {
   "cell_type": "markdown",
   "id": "f0d5f770",
   "metadata": {},
   "source": [
    "# Operators and functions "
   ]
  },
  {
   "cell_type": "code",
   "execution_count": 7,
   "id": "9ead397f",
   "metadata": {
    "execution": {
     "iopub.execute_input": "2023-08-18T05:12:06.756100Z",
     "iopub.status.busy": "2023-08-18T05:12:06.755950Z",
     "iopub.status.idle": "2023-08-18T05:12:06.759456Z",
     "shell.execute_reply": "2023-08-18T05:12:06.759173Z"
    }
   },
   "outputs": [],
   "source": [
    "def B(v, params, sizes, arrays):\n",
    "    \"\"\"\n",
    "    B(y, z, a, v) = r(y, a) + β(z) Σ_{y′, z′} v(y′, z′) R(y, a, y′) Q(z, z′)\n",
    "\n",
    "    \"\"\"\n",
    "    # Set up\n",
    "    K, c, κ, p = params\n",
    "    r, R, y_vals, z_vals, Q = arrays\n",
    "    n_y, n_z = sizes\n",
    "    # broadcasting over     (y,   z,   a)\n",
    "    r = jnp.reshape(r,      (n_y, 1,   n_y))\n",
    "    β = jnp.reshape(z_vals, (1,   n_z, 1))\n",
    "    # broadcasting over  (y,   z,   a,   yp,   zp)\n",
    "    R = jnp.reshape(R,   (n_y, 1,   n_y, n_y,  1))\n",
    "    Q = jnp.reshape(Q,   (1,   n_z, 1,   1,    n_z))\n",
    "    v = jnp.reshape(v,   (1,   1,   1,   n_y,  n_z))\n",
    "\n",
    "    Ev = jnp.sum(v * R * Q, axis=(3, 4))\n",
    "    return r + β * Ev"
   ]
  },
  {
   "cell_type": "code",
   "execution_count": 8,
   "id": "53b4f310",
   "metadata": {
    "execution": {
     "iopub.execute_input": "2023-08-18T05:12:06.761030Z",
     "iopub.status.busy": "2023-08-18T05:12:06.760881Z",
     "iopub.status.idle": "2023-08-18T05:12:06.763740Z",
     "shell.execute_reply": "2023-08-18T05:12:06.763292Z"
    }
   },
   "outputs": [],
   "source": [
    "def compute_r_σ(σ, params, sizes, arrays):\n",
    "    # Set up\n",
    "    r, R, y_vals, z_vals, Q = arrays\n",
    "    n_y, n_z = sizes\n",
    "    z_idx = jnp.arange(n_z)\n",
    "    # Create r_σ with indices (y,   z)\n",
    "    y = jnp.reshape(y_vals,    (n_y, 1))\n",
    "    z = jnp.reshape(z_idx,     (1,   n_z))\n",
    "    r_σ = r[y, σ[y, z]]\n",
    "    return r_σ"
   ]
  },
  {
   "cell_type": "code",
   "execution_count": 9,
   "id": "19e2ef36",
   "metadata": {
    "execution": {
     "iopub.execute_input": "2023-08-18T05:12:06.765263Z",
     "iopub.status.busy": "2023-08-18T05:12:06.765100Z",
     "iopub.status.idle": "2023-08-18T05:12:06.768094Z",
     "shell.execute_reply": "2023-08-18T05:12:06.767664Z"
    }
   },
   "outputs": [],
   "source": [
    "def compute_R_σ(σ, params, sizes, arrays):\n",
    "    # Set up\n",
    "    r, R, y_vals, z_vals, Q = arrays\n",
    "    n_y, n_z = sizes\n",
    "    z_idx = jnp.arange(n_z)\n",
    "    # Create R_σ with indices (y,   z,   yp)\n",
    "    y  = jnp.reshape(y_vals,   (n_y, 1,   1))\n",
    "    yp = jnp.reshape(y_vals,   (1,   1,   n_y))\n",
    "    z  = jnp.reshape(z_idx,    (1,   n_z, 1))\n",
    "    R_σ = R[y, σ[y, z], yp]\n",
    "    return R_σ "
   ]
  },
  {
   "cell_type": "code",
   "execution_count": 10,
   "id": "fcd94488",
   "metadata": {
    "execution": {
     "iopub.execute_input": "2023-08-18T05:12:06.769720Z",
     "iopub.status.busy": "2023-08-18T05:12:06.769484Z",
     "iopub.status.idle": "2023-08-18T05:12:06.772469Z",
     "shell.execute_reply": "2023-08-18T05:12:06.772053Z"
    }
   },
   "outputs": [],
   "source": [
    "def compute_L_σ(σ, params, sizes, arrays):\n",
    "    # Set up\n",
    "    r, R, y_vals, z_vals, Q = arrays\n",
    "    n_y, n_z = sizes\n",
    "    R_σ = compute_R_σ(σ, params, sizes, arrays)\n",
    "    # Create L_σ with indices (y,   z,   yp,  zp)\n",
    "    β   = jnp.reshape(z_vals,  (1,   n_z, 1,   1))\n",
    "    R_σ = jnp.reshape(R_σ,     (n_y, n_z, n_y, 1))\n",
    "    Q   = jnp.reshape(Q,       (1,   n_z, 1,   n_z))\n",
    "    L_σ = β * R_σ * Q\n",
    "    return L_σ"
   ]
  },
  {
   "cell_type": "code",
   "execution_count": 11,
   "id": "7ac839c8",
   "metadata": {
    "execution": {
     "iopub.execute_input": "2023-08-18T05:12:06.773862Z",
     "iopub.status.busy": "2023-08-18T05:12:06.773741Z",
     "iopub.status.idle": "2023-08-18T05:12:06.776278Z",
     "shell.execute_reply": "2023-08-18T05:12:06.775857Z"
    }
   },
   "outputs": [],
   "source": [
    "def T(v, params, sizes, arrays):\n",
    "    \"The Bellman operator.\"\n",
    "    return jnp.max(B(v, params, sizes, arrays), axis=2)"
   ]
  },
  {
   "cell_type": "code",
   "execution_count": 12,
   "id": "b5b203ea",
   "metadata": {
    "execution": {
     "iopub.execute_input": "2023-08-18T05:12:06.777828Z",
     "iopub.status.busy": "2023-08-18T05:12:06.777582Z",
     "iopub.status.idle": "2023-08-18T05:12:06.779964Z",
     "shell.execute_reply": "2023-08-18T05:12:06.779519Z"
    }
   },
   "outputs": [],
   "source": [
    "def get_greedy(v, params, sizes, arrays):\n",
    "    \"Get a v-greedy policy.\"\n",
    "    return jnp.argmax(B(v, params, sizes, arrays), axis=2)"
   ]
  },
  {
   "cell_type": "code",
   "execution_count": 13,
   "id": "4c1c85c7",
   "metadata": {
    "execution": {
     "iopub.execute_input": "2023-08-18T05:12:06.781482Z",
     "iopub.status.busy": "2023-08-18T05:12:06.781305Z",
     "iopub.status.idle": "2023-08-18T05:12:06.784337Z",
     "shell.execute_reply": "2023-08-18T05:12:06.783953Z"
    }
   },
   "outputs": [],
   "source": [
    "def T_σ(v, σ, params, sizes, arrays):\n",
    "    \"The policy operator.\"\n",
    "    r, R, y_vals, z_vals, Q = arrays\n",
    "    n_z, n_y = len(z_vals), len(y_vals)\n",
    "    r_σ = compute_r_σ(σ, params, sizes, arrays)\n",
    "    L_σ = compute_L_σ(σ, params, sizes, arrays)\n",
    "    v = jnp.reshape(v, (1, 1, n_y, n_z))\n",
    "    return r_σ + jnp.sum(L_σ * v, axis=(2, 3))"
   ]
  },
  {
   "cell_type": "code",
   "execution_count": 14,
   "id": "5154f605",
   "metadata": {
    "execution": {
     "iopub.execute_input": "2023-08-18T05:12:06.785855Z",
     "iopub.status.busy": "2023-08-18T05:12:06.785634Z",
     "iopub.status.idle": "2023-08-18T05:12:06.788818Z",
     "shell.execute_reply": "2023-08-18T05:12:06.788396Z"
    }
   },
   "outputs": [],
   "source": [
    "def get_value(σ, params, sizes, arrays):\n",
    "    r, R, y_vals, z_vals, Q = arrays\n",
    "    n_z, n_y = len(z_vals), len(y_vals)\n",
    "    r_σ = compute_r_σ(σ, params, sizes, arrays)\n",
    "    L_σ = compute_L_σ(σ, params, sizes, arrays)\n",
    "    # Reshape for matrix algebra\n",
    "    n = n_z * n_y\n",
    "    L_σ = jnp.reshape(L_σ, (n, n))\n",
    "    r_σ = jnp.reshape(r_σ, n)\n",
    "    # Apply matrix operations --- solve for the value of σ \n",
    "    I = jnp.identity(n)\n",
    "    v_σ = jnp.linalg.solve(I - L_σ,  r_σ)\n",
    "    # Return as multi-index array\n",
    "    return jnp.reshape(v_σ, (n_y, n_z))"
   ]
  },
  {
   "cell_type": "markdown",
   "id": "ba2ef109",
   "metadata": {},
   "source": [
    "# JIT compile functions and operators "
   ]
  },
  {
   "cell_type": "code",
   "execution_count": 15,
   "id": "b3998e4a",
   "metadata": {
    "execution": {
     "iopub.execute_input": "2023-08-18T05:12:06.790229Z",
     "iopub.status.busy": "2023-08-18T05:12:06.790107Z",
     "iopub.status.idle": "2023-08-18T05:12:06.793770Z",
     "shell.execute_reply": "2023-08-18T05:12:06.793338Z"
    }
   },
   "outputs": [],
   "source": [
    "B = jax.jit(B, static_argnums=(2,))\n",
    "compute_r_σ = jax.jit(compute_r_σ, static_argnums=(2,))\n",
    "compute_R_σ = jax.jit(compute_R_σ, static_argnums=(2,))\n",
    "compute_L_σ = jax.jit(compute_L_σ, static_argnums=(2,))\n",
    "T = jax.jit(T, static_argnums=(2,))\n",
    "T_σ = jax.jit(T_σ, static_argnums=(3,))\n",
    "get_greedy = jax.jit(get_greedy, static_argnums=(2,))\n",
    "get_value = jax.jit(get_value, static_argnums=(2,))"
   ]
  },
  {
   "cell_type": "markdown",
   "id": "89670e59",
   "metadata": {},
   "source": [
    "# Custom solvers "
   ]
  },
  {
   "cell_type": "code",
   "execution_count": 16,
   "id": "08f8b07e",
   "metadata": {
    "execution": {
     "iopub.execute_input": "2023-08-18T05:12:06.795205Z",
     "iopub.status.busy": "2023-08-18T05:12:06.795082Z",
     "iopub.status.idle": "2023-08-18T05:12:06.799404Z",
     "shell.execute_reply": "2023-08-18T05:12:06.799029Z"
    }
   },
   "outputs": [],
   "source": [
    "def solve_model_jax(model, algorithm=\"OPI\", **kwargs):\n",
    "    \"\"\"\n",
    "    General purpose solver. \n",
    "\n",
    "    algorithm : OPI, VFI or HPI\n",
    "\n",
    "    \"\"\"\n",
    "\n",
    "    # Set up\n",
    "    params, sizes, arrays = model\n",
    "    n_y, n_z = sizes\n",
    "    v_init = jnp.zeros((n_y, n_z))\n",
    "\n",
    "    # Solve\n",
    "    print(f\"Solving model via using {algorithm}.\")\n",
    "    match algorithm:\n",
    "        case \"OPI\":\n",
    "            solver = optimistic_policy_iteration\n",
    "            args = (v_init, \n",
    "                lambda v, σ: T_σ(v, σ, params, sizes, arrays), \n",
    "                lambda v: get_greedy(v, params, sizes, arrays))\n",
    "        case \"HPI\":\n",
    "            solver = howard_policy_iteration\n",
    "            args = (v_init, \n",
    "                lambda σ: get_value(σ, params, sizes, arrays), \n",
    "                lambda v: get_greedy(v, params, sizes, arrays))\n",
    "        case \"VFI\":\n",
    "            solver = value_function_iteration\n",
    "            args = (v_init, \n",
    "                lambda v: T(v, params, sizes, arrays), \n",
    "                lambda v: get_greedy(v, params, sizes, arrays))\n",
    "        case _:\n",
    "            raise ValueError(\"Algorithm must be in {OPI, VFI, HPI}\")\n",
    "\n",
    "    qe.tic()\n",
    "    v_star, σ_star = solver(*args, **kwargs)\n",
    "    run_time = qe.toc()\n",
    "    print(f\"Solved model using {algorithm} in {run_time:.5f} seconds.\")\n",
    "\n",
    "    return v_star, σ_star"
   ]
  },
  {
   "cell_type": "code",
   "execution_count": 17,
   "id": "8ae3b3ce",
   "metadata": {
    "execution": {
     "iopub.execute_input": "2023-08-18T05:12:06.800950Z",
     "iopub.status.busy": "2023-08-18T05:12:06.800719Z",
     "iopub.status.idle": "2023-08-18T05:12:06.804536Z",
     "shell.execute_reply": "2023-08-18T05:12:06.804112Z"
    }
   },
   "outputs": [],
   "source": [
    "def test_timing_jax(model,\n",
    "                    m_vals=range(1, 100, 20),\n",
    "                    figname=\"jax_timing.pdf\",\n",
    "                    savefig=False):\n",
    "    \"\"\"\n",
    "    Plot relative timing of different algorithms.\n",
    "\n",
    "    \"\"\"\n",
    "\n",
    "    qe.tic()\n",
    "    _, σ_pi = solve_model_jax(model, algorithm=\"HPI\")\n",
    "    hpi_time = qe.toc()\n",
    "\n",
    "    qe.tic()\n",
    "    _, σ_vfi = solve_model_jax(model, algorithm=\"VFI\")\n",
    "    vfi_time = qe.toc()\n",
    "\n",
    "    error = jnp.max(jnp.abs(σ_vfi - σ_pi))\n",
    "    if error:\n",
    "        print(\"Warning: VFI policy deviated with max error {error}.\")\n",
    "\n",
    "    opi_times = []\n",
    "    for m in m_vals:\n",
    "        qe.tic()\n",
    "        _, σ_opi = solve_model_jax(model, algorithm=\"OPI\", m=m)\n",
    "        opi_times.append(qe.toc())\n",
    "\n",
    "        error = jnp.max(jnp.abs(σ_opi - σ_pi))\n",
    "        if error:\n",
    "            print(\"Warning: OPI policy deviated with max error {error}.\")\n",
    "\n",
    "    plot_timing(hpi_time, \n",
    "                vfi_time,\n",
    "                opi_times,\n",
    "                m_vals, \n",
    "                figname=figname,\n",
    "                savefig=False)\n",
    "\n",
    "    return hpi_time, vfi_time, opi_times"
   ]
  },
  {
   "cell_type": "markdown",
   "id": "f28a41e1",
   "metadata": {},
   "source": [
    "# Simulations and plots "
   ]
  },
  {
   "cell_type": "code",
   "execution_count": 18,
   "id": "bde9a20c",
   "metadata": {
    "execution": {
     "iopub.execute_input": "2023-08-18T05:12:06.806110Z",
     "iopub.status.busy": "2023-08-18T05:12:06.805849Z",
     "iopub.status.idle": "2023-08-18T05:12:07.419998Z",
     "shell.execute_reply": "2023-08-18T05:12:07.419501Z"
    }
   },
   "outputs": [
    {
     "name": "stdout",
     "output_type": "stream",
     "text": [
      "Building model with ρ(L) = 0.9751716609507842\n"
     ]
    }
   ],
   "source": [
    "model = create_sdd_inventory_model_jax()"
   ]
  },
  {
   "cell_type": "markdown",
   "id": "e14c51bf",
   "metadata": {},
   "source": [
    "## Solve by VFI "
   ]
  },
  {
   "cell_type": "code",
   "execution_count": 19,
   "id": "fa63cd8d",
   "metadata": {
    "execution": {
     "iopub.execute_input": "2023-08-18T05:12:07.421717Z",
     "iopub.status.busy": "2023-08-18T05:12:07.421584Z",
     "iopub.status.idle": "2023-08-18T05:12:15.200676Z",
     "shell.execute_reply": "2023-08-18T05:12:15.200198Z"
    }
   },
   "outputs": [
    {
     "name": "stdout",
     "output_type": "stream",
     "text": [
      "Solving model via using VFI.\n"
     ]
    },
    {
     "name": "stdout",
     "output_type": "stream",
     "text": [
      "Completed iteration 25 with error 0.561291818742589.\n"
     ]
    },
    {
     "name": "stdout",
     "output_type": "stream",
     "text": [
      "Completed iteration 50 with error 0.3776031152708832.\n"
     ]
    },
    {
     "name": "stdout",
     "output_type": "stream",
     "text": [
      "Completed iteration 75 with error 0.22781271574230288.\n"
     ]
    },
    {
     "name": "stdout",
     "output_type": "stream",
     "text": [
      "Completed iteration 100 with error 0.12966912474841052.\n"
     ]
    },
    {
     "name": "stdout",
     "output_type": "stream",
     "text": [
      "Completed iteration 125 with error 0.06841133244552822.\n"
     ]
    },
    {
     "name": "stdout",
     "output_type": "stream",
     "text": [
      "Completed iteration 150 with error 0.03108826968598777.\n"
     ]
    },
    {
     "name": "stdout",
     "output_type": "stream",
     "text": [
      "Completed iteration 175 with error 0.014717604780912552.\n"
     ]
    },
    {
     "name": "stdout",
     "output_type": "stream",
     "text": [
      "Completed iteration 200 with error 0.007728671529960707.\n"
     ]
    },
    {
     "name": "stdout",
     "output_type": "stream",
     "text": [
      "Completed iteration 225 with error 0.0041302272069572155.\n"
     ]
    },
    {
     "name": "stdout",
     "output_type": "stream",
     "text": [
      "Completed iteration 250 with error 0.002206459813073991.\n"
     ]
    },
    {
     "name": "stdout",
     "output_type": "stream",
     "text": [
      "Completed iteration 275 with error 0.0011779116780843424.\n"
     ]
    },
    {
     "name": "stdout",
     "output_type": "stream",
     "text": [
      "Completed iteration 300 with error 0.0006285733275817051.\n"
     ]
    },
    {
     "name": "stdout",
     "output_type": "stream",
     "text": [
      "Completed iteration 325 with error 0.0003353535262249352.\n"
     ]
    },
    {
     "name": "stdout",
     "output_type": "stream",
     "text": [
      "Completed iteration 350 with error 0.00017889424245964847.\n"
     ]
    },
    {
     "name": "stdout",
     "output_type": "stream",
     "text": [
      "Completed iteration 375 with error 9.542456400879473e-05.\n"
     ]
    },
    {
     "name": "stdout",
     "output_type": "stream",
     "text": [
      "Completed iteration 400 with error 5.089879924469187e-05.\n"
     ]
    },
    {
     "name": "stdout",
     "output_type": "stream",
     "text": [
      "Completed iteration 425 with error 2.7148494247342114e-05.\n"
     ]
    },
    {
     "name": "stdout",
     "output_type": "stream",
     "text": [
      "Completed iteration 450 with error 1.4480344070477713e-05.\n"
     ]
    },
    {
     "name": "stdout",
     "output_type": "stream",
     "text": [
      "Completed iteration 475 with error 7.723411918902912e-06.\n"
     ]
    },
    {
     "name": "stdout",
     "output_type": "stream",
     "text": [
      "Completed iteration 500 with error 4.119437804206427e-06.\n"
     ]
    },
    {
     "name": "stdout",
     "output_type": "stream",
     "text": [
      "Completed iteration 525 with error 2.197181004248705e-06.\n"
     ]
    },
    {
     "name": "stdout",
     "output_type": "stream",
     "text": [
      "Completed iteration 550 with error 1.1719072361415783e-06.\n",
      "Terminated successfully in 558 iterations.\n",
      "TOC: Elapsed: 0:00:6.14\n",
      "Solved model using VFI in 6.14998 seconds.\n"
     ]
    }
   ],
   "source": [
    "v_star, σ_star = solve_model_jax(model, algorithm=\"VFI\")"
   ]
  },
  {
   "cell_type": "markdown",
   "id": "3778ef6e",
   "metadata": {},
   "source": [
    "## Solve by HPI"
   ]
  },
  {
   "cell_type": "code",
   "execution_count": 20,
   "id": "869a5f84",
   "metadata": {
    "execution": {
     "iopub.execute_input": "2023-08-18T05:12:15.202282Z",
     "iopub.status.busy": "2023-08-18T05:12:15.202116Z",
     "iopub.status.idle": "2023-08-18T05:12:15.839099Z",
     "shell.execute_reply": "2023-08-18T05:12:15.838553Z"
    }
   },
   "outputs": [
    {
     "name": "stdout",
     "output_type": "stream",
     "text": [
      "Solving model via using HPI.\n"
     ]
    },
    {
     "name": "stdout",
     "output_type": "stream",
     "text": [
      "Concluded loop 1 with error 66.\n",
      "Concluded loop 2 with error 60.\n"
     ]
    },
    {
     "name": "stdout",
     "output_type": "stream",
     "text": [
      "Concluded loop 3 with error 32.\n",
      "Concluded loop 4 with error 32.\n"
     ]
    },
    {
     "name": "stdout",
     "output_type": "stream",
     "text": [
      "Concluded loop 5 with error 24.\n",
      "Concluded loop 6 with error 24.\n"
     ]
    },
    {
     "name": "stdout",
     "output_type": "stream",
     "text": [
      "Concluded loop 7 with error 24.\n",
      "Concluded loop 8 with error 0.\n",
      "TOC: Elapsed: 0:00:0.63\n",
      "Solved model using HPI in 0.63387 seconds.\n"
     ]
    }
   ],
   "source": [
    "v_star, σ_star = solve_model_jax(model, algorithm=\"HPI\")"
   ]
  },
  {
   "cell_type": "markdown",
   "id": "27e56e80",
   "metadata": {},
   "source": [
    "## Solve by OPI"
   ]
  },
  {
   "cell_type": "code",
   "execution_count": 21,
   "id": "46fd9391",
   "metadata": {
    "execution": {
     "iopub.execute_input": "2023-08-18T05:12:15.840774Z",
     "iopub.status.busy": "2023-08-18T05:12:15.840613Z",
     "iopub.status.idle": "2023-08-18T05:12:16.274950Z",
     "shell.execute_reply": "2023-08-18T05:12:16.274482Z"
    },
    "lines_to_next_cell": 2
   },
   "outputs": [
    {
     "name": "stdout",
     "output_type": "stream",
     "text": [
      "Solving model via using OPI.\n"
     ]
    },
    {
     "name": "stdout",
     "output_type": "stream",
     "text": [
      "Completed iteration 10 with error 0.00398914428492958.\n",
      "TOC: Elapsed: 0:00:0.43\n",
      "Solved model using OPI in 0.43056 seconds.\n"
     ]
    }
   ],
   "source": [
    "v_star, σ_star = solve_model_jax(model, algorithm=\"OPI\")"
   ]
  },
  {
   "cell_type": "code",
   "execution_count": 22,
   "id": "52eb61fd",
   "metadata": {
    "execution": {
     "iopub.execute_input": "2023-08-18T05:12:16.276557Z",
     "iopub.status.busy": "2023-08-18T05:12:16.276397Z",
     "iopub.status.idle": "2023-08-18T05:12:17.840411Z",
     "shell.execute_reply": "2023-08-18T05:12:17.840027Z"
    }
   },
   "outputs": [
    {
     "data": {
      "image/png": "[encoded data removed]",
      "text/plain": [
       "<Figure size 900x550 with 2 Axes>"
      ]
     },
     "metadata": {},
     "output_type": "display_data"
    }
   ],
   "source": [
    "plot_ts(model, σ_star, figname=\"jax_ts.pdf\", savefig=False)"
   ]
  },
  {
   "cell_type": "markdown",
   "id": "a0c07cca",
   "metadata": {},
   "source": [
    "## Plot timing test"
   ]
  },
  {
   "cell_type": "code",
   "execution_count": 23,
   "id": "9757799c",
   "metadata": {
    "execution": {
     "iopub.execute_input": "2023-08-18T05:12:17.842054Z",
     "iopub.status.busy": "2023-08-18T05:12:17.841892Z",
     "iopub.status.idle": "2023-08-18T05:12:31.778293Z",
     "shell.execute_reply": "2023-08-18T05:12:31.777799Z"
    },
    "lines_to_next_cell": 2
   },
   "outputs": [
    {
     "name": "stdout",
     "output_type": "stream",
     "text": [
      "Solving model via using HPI.\n",
      "Concluded loop 1 with error 66.\n",
      "Concluded loop 2 with error 60.\n",
      "Concluded loop 3 with error 32.\n"
     ]
    },
    {
     "name": "stdout",
     "output_type": "stream",
     "text": [
      "Concluded loop 4 with error 32.\n",
      "Concluded loop 5 with error 24.\n",
      "Concluded loop 6 with error 24.\n",
      "Concluded loop 7 with error 24.\n"
     ]
    },
    {
     "name": "stdout",
     "output_type": "stream",
     "text": [
      "Concluded loop 8 with error 0.\n",
      "TOC: Elapsed: 0:00:0.41\n",
      "Solved model using HPI in 0.41281 seconds.\n",
      "TOC: Elapsed: 0:00:0.41\n",
      "Solving model via using VFI.\n"
     ]
    },
    {
     "name": "stdout",
     "output_type": "stream",
     "text": [
      "Completed iteration 25 with error 0.561291818742589.\n"
     ]
    },
    {
     "name": "stdout",
     "output_type": "stream",
     "text": [
      "Completed iteration 50 with error 0.3776031152708832.\n"
     ]
    },
    {
     "name": "stdout",
     "output_type": "stream",
     "text": [
      "Completed iteration 75 with error 0.22781271574230288.\n"
     ]
    },
    {
     "name": "stdout",
     "output_type": "stream",
     "text": [
      "Completed iteration 100 with error 0.12966912474841052.\n"
     ]
    },
    {
     "name": "stdout",
     "output_type": "stream",
     "text": [
      "Completed iteration 125 with error 0.06841133244552822.\n"
     ]
    },
    {
     "name": "stdout",
     "output_type": "stream",
     "text": [
      "Completed iteration 150 with error 0.03108826968598777.\n"
     ]
    },
    {
     "name": "stdout",
     "output_type": "stream",
     "text": [
      "Completed iteration 175 with error 0.014717604780912552.\n"
     ]
    },
    {
     "name": "stdout",
     "output_type": "stream",
     "text": [
      "Completed iteration 200 with error 0.007728671529960707.\n"
     ]
    },
    {
     "name": "stdout",
     "output_type": "stream",
     "text": [
      "Completed iteration 225 with error 0.0041302272069572155.\n"
     ]
    },
    {
     "name": "stdout",
     "output_type": "stream",
     "text": [
      "Completed iteration 250 with error 0.002206459813073991.\n"
     ]
    },
    {
     "name": "stdout",
     "output_type": "stream",
     "text": [
      "Completed iteration 275 with error 0.0011779116780843424.\n"
     ]
    },
    {
     "name": "stdout",
     "output_type": "stream",
     "text": [
      "Completed iteration 300 with error 0.0006285733275817051.\n"
     ]
    },
    {
     "name": "stdout",
     "output_type": "stream",
     "text": [
      "Completed iteration 325 with error 0.0003353535262249352.\n"
     ]
    },
    {
     "name": "stdout",
     "output_type": "stream",
     "text": [
      "Completed iteration 350 with error 0.00017889424245964847.\n"
     ]
    },
    {
     "name": "stdout",
     "output_type": "stream",
     "text": [
      "Completed iteration 375 with error 9.542456400879473e-05.\n"
     ]
    },
    {
     "name": "stdout",
     "output_type": "stream",
     "text": [
      "Completed iteration 400 with error 5.089879924469187e-05.\n"
     ]
    },
    {
     "name": "stdout",
     "output_type": "stream",
     "text": [
      "Completed iteration 425 with error 2.7148494247342114e-05.\n"
     ]
    },
    {
     "name": "stdout",
     "output_type": "stream",
     "text": [
      "Completed iteration 450 with error 1.4480344070477713e-05.\n"
     ]
    },
    {
     "name": "stdout",
     "output_type": "stream",
     "text": [
      "Completed iteration 475 with error 7.723411918902912e-06.\n"
     ]
    },
    {
     "name": "stdout",
     "output_type": "stream",
     "text": [
      "Completed iteration 500 with error 4.119437804206427e-06.\n"
     ]
    },
    {
     "name": "stdout",
     "output_type": "stream",
     "text": [
      "Completed iteration 525 with error 2.197181004248705e-06.\n"
     ]
    },
    {
     "name": "stdout",
     "output_type": "stream",
     "text": [
      "Completed iteration 550 with error 1.1719072361415783e-06.\n",
      "Terminated successfully in 558 iterations.\n",
      "TOC: Elapsed: 0:00:5.88\n",
      "Solved model using VFI in 5.88580 seconds.\n",
      "TOC: Elapsed: 0:00:5.88\n",
      "Solving model via using OPI.\n"
     ]
    },
    {
     "name": "stdout",
     "output_type": "stream",
     "text": [
      "Completed iteration 10 with error 0.6480358762326093.\n",
      "Completed iteration 20 with error 0.5949305169605896.\n"
     ]
    },
    {
     "name": "stdout",
     "output_type": "stream",
     "text": [
      "Completed iteration 30 with error 0.5251459484602279.\n",
      "Completed iteration 40 with error 0.45024112605453226.\n"
     ]
    },
    {
     "name": "stdout",
     "output_type": "stream",
     "text": [
      "Completed iteration 50 with error 0.37760311527088675.\n",
      "Completed iteration 60 with error 0.31139252263245254.\n"
     ]
    },
    {
     "name": "stdout",
     "output_type": "stream",
     "text": [
      "Completed iteration 70 with error 0.25348563920216804.\n",
      "Completed iteration 80 with error 0.20428999885410803.\n"
     ]
    },
    {
     "name": "stdout",
     "output_type": "stream",
     "text": [
      "Completed iteration 90 with error 0.1633451023325918.\n",
      "Completed iteration 100 with error 0.12966912474841052.\n"
     ]
    },
    {
     "name": "stdout",
     "output_type": "stream",
     "text": [
      "Completed iteration 110 with error 0.10191243757392954.\n",
      "Completed iteration 120 with error 0.07865530805723608.\n"
     ]
    },
    {
     "name": "stdout",
     "output_type": "stream",
     "text": [
      "Completed iteration 130 with error 0.059048567201003266.\n",
      "Completed iteration 140 with error 0.04311205522372319.\n"
     ]
    },
    {
     "name": "stdout",
     "output_type": "stream",
     "text": [
      "Completed iteration 150 with error 0.03108826968598777.\n",
      "Completed iteration 160 with error 0.022647420777794025.\n"
     ]
    },
    {
     "name": "stdout",
     "output_type": "stream",
     "text": [
      "Completed iteration 170 with error 0.01689273636191757.\n",
      "Completed iteration 180 with error 0.01287975724365964.\n"
     ]
    },
    {
     "name": "stdout",
     "output_type": "stream",
     "text": [
      "Completed iteration 190 with error 0.009949277899579556.\n",
      "Completed iteration 200 with error 0.007728671529967812.\n"
     ]
    },
    {
     "name": "stdout",
     "output_type": "stream",
     "text": [
      "Completed iteration 210 with error 0.006014172995399747.\n",
      "Completed iteration 220 with error 0.004681465137345242.\n"
     ]
    },
    {
     "name": "stdout",
     "output_type": "stream",
     "text": [
      "Completed iteration 230 with error 0.003643763932657862.\n",
      "Completed iteration 240 with error 0.002835651991937027.\n"
     ]
    },
    {
     "name": "stdout",
     "output_type": "stream",
     "text": [
      "Completed iteration 250 with error 0.0022064598130668855.\n",
      "Completed iteration 260 with error 0.0017166848875262986.\n"
     ]
    },
    {
     "name": "stdout",
     "output_type": "stream",
     "text": [
      "Completed iteration 270 with error 0.0013355082948578456.\n",
      "Completed iteration 280 with error 0.0010388960936396074.\n"
     ]
    },
    {
     "name": "stdout",
     "output_type": "stream",
     "text": [
      "Completed iteration 290 with error 0.0008081157057162613.\n",
      "Completed iteration 300 with error 0.0006285733275888106.\n"
     ]
    },
    {
     "name": "stdout",
     "output_type": "stream",
     "text": [
      "Completed iteration 310 with error 0.0004889036860262763.\n",
      "Completed iteration 320 with error 0.0003802583785841307.\n"
     ]
    },
    {
     "name": "stdout",
     "output_type": "stream",
     "text": [
      "Completed iteration 330 with error 0.0002957500884122055.\n",
      "Completed iteration 340 with error 0.00023001891723595236.\n"
     ]
    },
    {
     "name": "stdout",
     "output_type": "stream",
     "text": [
      "Completed iteration 350 with error 0.00017889424245964847.\n",
      "Completed iteration 360 with error 0.0001391312026015612.\n"
     ]
    },
    {
     "name": "stdout",
     "output_type": "stream",
     "text": [
      "Completed iteration 370 with error 0.00010820542954093071.\n",
      "Completed iteration 380 with error 8.415320763788259e-05.\n"
     ]
    },
    {
     "name": "stdout",
     "output_type": "stream",
     "text": [
      "Completed iteration 390 with error 6.544703997235501e-05.\n",
      "Completed iteration 400 with error 5.089879924469187e-05.\n"
     ]
    },
    {
     "name": "stdout",
     "output_type": "stream",
     "text": [
      "Completed iteration 410 with error 3.958436084161576e-05.\n",
      "Completed iteration 420 with error 3.078496104791384e-05.\n"
     ]
    },
    {
     "name": "stdout",
     "output_type": "stream",
     "text": [
      "Completed iteration 430 with error 2.3941573402908034e-05.\n",
      "Completed iteration 440 with error 1.861941635183939e-05.\n"
     ]
    },
    {
     "name": "stdout",
     "output_type": "stream",
     "text": [
      "Completed iteration 450 with error 1.4480344070477713e-05.\n",
      "Completed iteration 460 with error 1.1261370822523986e-05.\n"
     ]
    },
    {
     "name": "stdout",
     "output_type": "stream",
     "text": [
      "Completed iteration 470 with error 8.757966703853981e-06.\n",
      "Completed iteration 480 with error 6.81106531885689e-06.\n"
     ]
    },
    {
     "name": "stdout",
     "output_type": "stream",
     "text": [
      "Completed iteration 490 with error 5.296958661915596e-06.\n",
      "Completed iteration 500 with error 4.119437804206427e-06.\n"
     ]
    },
    {
     "name": "stdout",
     "output_type": "stream",
     "text": [
      "Completed iteration 510 with error 3.2036803787605095e-06.\n",
      "Completed iteration 520 with error 2.4914966303413166e-06.\n"
     ]
    },
    {
     "name": "stdout",
     "output_type": "stream",
     "text": [
      "Completed iteration 530 with error 1.9376322057951256e-06.\n",
      "Completed iteration 540 with error 1.506892658653669e-06.\n"
     ]
    },
    {
     "name": "stdout",
     "output_type": "stream",
     "text": [
      "Completed iteration 550 with error 1.1719072361415783e-06.\n",
      "TOC: Elapsed: 0:00:5.95\n",
      "Solved model using OPI in 5.95621 seconds.\n",
      "TOC: Elapsed: 0:00:5.95\n",
      "Solving model via using OPI.\n"
     ]
    },
    {
     "name": "stdout",
     "output_type": "stream",
     "text": [
      "Completed iteration 10 with error 0.23575181290819813.\n",
      "Completed iteration 20 with error 0.00122925552872033.\n"
     ]
    },
    {
     "name": "stdout",
     "output_type": "stream",
     "text": [
      "Completed iteration 30 with error 6.262373965171264e-06.\n",
      "TOC: Elapsed: 0:00:0.46\n",
      "Solved model using OPI in 0.46411 seconds.\n",
      "TOC: Elapsed: 0:00:0.46\n",
      "Solving model via using OPI.\n"
     ]
    },
    {
     "name": "stdout",
     "output_type": "stream",
     "text": [
      "Completed iteration 10 with error 0.02117210695652716.\n",
      "Completed iteration 20 with error 6.989141070334881e-07.\n",
      "TOC: Elapsed: 0:00:0.33\n",
      "Solved model using OPI in 0.33666 seconds.\n",
      "TOC: Elapsed: 0:00:0.33\n",
      "Solving model via using OPI.\n"
     ]
    },
    {
     "name": "stdout",
     "output_type": "stream",
     "text": [
      "Completed iteration 10 with error 0.002919326747964135.\n",
      "TOC: Elapsed: 0:00:0.31\n",
      "Solved model using OPI in 0.31681 seconds.\n",
      "TOC: Elapsed: 0:00:0.31\n",
      "Solving model via using OPI.\n"
     ]
    },
    {
     "name": "stdout",
     "output_type": "stream",
     "text": [
      "Completed iteration 10 with error 0.00035446903334701574.\n",
      "TOC: Elapsed: 0:00:0.29\n",
      "Solved model using OPI in 0.29595 seconds.\n",
      "TOC: Elapsed: 0:00:0.29\n"
     ]
    },
    {
     "data": {
      "image/png": "[encoded data removed]",
      "text/plain": [
       "<Figure size 900x520 with 1 Axes>"
      ]
     },
     "metadata": {},
     "output_type": "display_data"
    }
   ],
   "source": [
    "hpi_time, vfi_time, opi_times = test_timing_jax(model)"
   ]
  }
 ],
 "metadata": {
  "jupytext": {
   "cell_metadata_filter": "-all",
   "main_language": "python",
   "notebook_metadata_filter": "-all"
  },
  "kernelspec": {
   "display_name": "Python 3 (ipykernel)",
   "language": "python",
   "name": "python3"
  },
  "language_info": {
   "codemirror_mode": {
    "name": "ipython",
    "version": 3
   },
   "file_extension": ".py",
   "mimetype": "text/x-python",
   "name": "python",
   "nbconvert_exporter": "python",
   "pygments_lexer": "ipython3",
   "version": "3.10.9"
  }
 },
 "nbformat": 4,
 "nbformat_minor": 5
}
