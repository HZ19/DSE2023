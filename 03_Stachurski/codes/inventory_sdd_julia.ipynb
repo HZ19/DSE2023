{
 "cells": [
  {
   "cell_type": "markdown",
   "id": "c1b6e282",
   "metadata": {},
   "source": [
    "# Solve the inventory management problem using Julia.\n",
    "\n",
    "The discount factor takes the form β_t = Z_t, where (Z_t) is \n",
    "a discretization of the Gaussian AR(1) process \n",
    "\n",
    "    Z_t = ρ Z_{t-1} + b + ν W_t.\n",
    "\n",
    "John Stachurski\n",
    "Sun 13 Aug 2023 04:25:41"
   ]
  },
  {
   "cell_type": "code",
   "execution_count": 1,
   "id": "3189b33a",
   "metadata": {
    "execution": {
     "iopub.execute_input": "2023-08-18T14:13:37.049000Z",
     "iopub.status.busy": "2023-08-18T14:13:36.678000Z",
     "iopub.status.idle": "2023-08-18T14:13:41.248000Z",
     "shell.execute_reply": "2023-08-18T14:13:41.193000Z"
    },
    "lines_to_next_cell": 2
   },
   "outputs": [],
   "source": [
    "include(\"s_approx.jl\")\n",
    "using LinearAlgebra, Random, Distributions, QuantEcon"
   ]
  },
  {
   "cell_type": "markdown",
   "id": "a19a1c3f",
   "metadata": {},
   "source": [
    "# Primitives"
   ]
  },
  {
   "cell_type": "code",
   "execution_count": 2,
   "id": "9859b845",
   "metadata": {
    "execution": {
     "iopub.execute_input": "2023-08-18T14:13:41.363000Z",
     "iopub.status.busy": "2023-08-18T14:13:41.249000Z",
     "iopub.status.idle": "2023-08-18T14:13:41.685000Z",
     "shell.execute_reply": "2023-08-18T14:13:41.685000Z"
    }
   },
   "outputs": [
    {
     "data": {
      "text/plain": [
       "f (generic function with 1 method)"
      ]
     },
     "execution_count": 2,
     "metadata": {},
     "output_type": "execute_result"
    }
   ],
   "source": [
    "f(y, a, d) = max(y - d, 0) + a  # Inventory update"
   ]
  },
  {
   "cell_type": "code",
   "execution_count": 3,
   "id": "4e80b985",
   "metadata": {
    "execution": {
     "iopub.execute_input": "2023-08-18T14:13:41.687000Z",
     "iopub.status.busy": "2023-08-18T14:13:41.687000Z",
     "iopub.status.idle": "2023-08-18T14:13:41.770000Z",
     "shell.execute_reply": "2023-08-18T14:13:41.770000Z"
    },
    "lines_to_next_cell": 2
   },
   "outputs": [
    {
     "data": {
      "text/plain": [
       "create_sdd_inventory_model (generic function with 1 method)"
      ]
     },
     "execution_count": 3,
     "metadata": {},
     "output_type": "execute_result"
    }
   ],
   "source": [
    "function create_sdd_inventory_model(; ρ=0.98, \n",
    "                                      ν=0.002, \n",
    "                                      n_z=25, \n",
    "                                      b=0.97, \n",
    "                                      K=100, \n",
    "                                      c=0.2, \n",
    "                                      κ=0.8, \n",
    "                                      p=0.6, \n",
    "                                      d_max=100)  # truncate demand shock\n",
    "\n",
    "    ϕ(d) = (1 - p)^d * p                      # demand pdf\n",
    "    d_vals = collect(0:d_max)\n",
    "    ϕ_vals = ϕ.(d_vals)\n",
    "    y_vals = collect(0:K)                     # inventory levels\n",
    "    n_y = length(y_vals)\n",
    "    mc = tauchen(n_z, ρ, ν)\n",
    "    z_vals, Q = mc.state_values .+ b, mc.p\n",
    "\n",
    "    # test spectral radius condition\n",
    "    ρL = maximum(abs.(eigvals(z_vals .* Q)))     \n",
    "    @assert  ρL < 1 \"Error: ρ(L) ≥ 1.\"    \n",
    "\n",
    "    R = zeros(n_y, n_y, n_y)\n",
    "    for (i_y, y) in enumerate(y_vals)\n",
    "        for (i_y′, y′) in enumerate(y_vals)\n",
    "            for (i_a, a) in enumerate(0:(K - y))\n",
    "                hits = f.(y, a, d_vals) .== y′\n",
    "                R[i_y, i_a, i_y′] = dot(hits, ϕ_vals)\n",
    "            end\n",
    "        end\n",
    "    end\n",
    "\n",
    "    r = fill(-Inf, n_y, n_y)\n",
    "    for (i_y, y) in enumerate(y_vals)\n",
    "        for (i_a, a) in enumerate(0:(K - y))\n",
    "                cost = c * a + κ * (a > 0)\n",
    "                r[i_y, i_a] = dot(min.(y, d_vals),  ϕ_vals) - cost\n",
    "        end\n",
    "    end\n",
    "\n",
    "    return (; K, c, κ, p, r, R, y_vals, z_vals, Q)\n",
    "end"
   ]
  },
  {
   "cell_type": "markdown",
   "id": "551e5c5e",
   "metadata": {
    "lines_to_next_cell": 2
   },
   "source": [
    "# Operators and Functions"
   ]
  },
  {
   "cell_type": "code",
   "execution_count": 4,
   "id": "b7ca8fcd",
   "metadata": {
    "execution": {
     "iopub.execute_input": "2023-08-18T14:13:41.772000Z",
     "iopub.status.busy": "2023-08-18T14:13:41.772000Z",
     "iopub.status.idle": "2023-08-18T14:13:41.961000Z",
     "shell.execute_reply": "2023-08-18T14:13:41.961000Z"
    }
   },
   "outputs": [
    {
     "data": {
      "text/plain": [
       "B"
      ]
     },
     "execution_count": 4,
     "metadata": {},
     "output_type": "execute_result"
    }
   ],
   "source": [
    "\"\"\"\n",
    "The function \n",
    "\n",
    "    B(y, z, a, v) = r(y, a) + β(z) Σ_{y′, z′} v(y′, z′) R(y, a, y′) Q(z, z′)\n",
    "\n",
    "\"\"\"\n",
    "function B(i_y, i_z, i_a, v, model; d_max=100)\n",
    "    (; K, c, κ, p, r, R, y_vals, z_vals, Q) = model\n",
    "    β = z_vals[i_z]\n",
    "    cv = 0.0\n",
    "    for i_z′ in eachindex(z_vals)\n",
    "        for i_y′ in eachindex(y_vals)\n",
    "            cv += v[i_y′, i_z′] * R[i_y, i_a, i_y′] * Q[i_z, i_z′]\n",
    "        end\n",
    "    end\n",
    "    return r[i_y, i_a] + β * cv\n",
    "end"
   ]
  },
  {
   "cell_type": "code",
   "execution_count": 5,
   "id": "501cb736",
   "metadata": {
    "execution": {
     "iopub.execute_input": "2023-08-18T14:13:41.963000Z",
     "iopub.status.busy": "2023-08-18T14:13:41.963000Z",
     "iopub.status.idle": "2023-08-18T14:13:41.966000Z",
     "shell.execute_reply": "2023-08-18T14:13:41.966000Z"
    }
   },
   "outputs": [
    {
     "data": {
      "text/plain": [
       "T"
      ]
     },
     "execution_count": 5,
     "metadata": {},
     "output_type": "execute_result"
    }
   ],
   "source": [
    "\"The Bellman operator.\"\n",
    "function T(v, model)\n",
    "    (; K, c, κ, p, r, R, y_vals, z_vals, Q) = model\n",
    "    new_v = similar(v)\n",
    "    for i_z in eachindex(z_vals)\n",
    "        for (i_y, y) in enumerate(y_vals)\n",
    "            Γy = 1:(K - y + 1)\n",
    "            new_v[i_y, i_z], _ = findmax(B(i_y, i_z, i_a, v, model) for i_a in Γy)\n",
    "        end\n",
    "    end\n",
    "    return new_v\n",
    "end"
   ]
  },
  {
   "cell_type": "code",
   "execution_count": 6,
   "id": "bf6c7bfb",
   "metadata": {
    "execution": {
     "iopub.execute_input": "2023-08-18T14:13:41.968000Z",
     "iopub.status.busy": "2023-08-18T14:13:41.968000Z",
     "iopub.status.idle": "2023-08-18T14:13:41.969000Z",
     "shell.execute_reply": "2023-08-18T14:13:41.969000Z"
    },
    "lines_to_next_cell": 2
   },
   "outputs": [
    {
     "data": {
      "text/plain": [
       "T_σ"
      ]
     },
     "execution_count": 6,
     "metadata": {},
     "output_type": "execute_result"
    }
   ],
   "source": [
    "\"The policy operator.\"\n",
    "function T_σ(v, σ, model)\n",
    "    (; K, c, κ, p, r, R, y_vals, z_vals, Q) = model\n",
    "    new_v = similar(v)\n",
    "    for (i_z, z) in enumerate(z_vals)\n",
    "        for (i_y, y) in enumerate(y_vals)\n",
    "            new_v[i_y, i_z] = B(i_y, i_z, σ[i_y, i_z], v, model) \n",
    "        end\n",
    "    end\n",
    "    return new_v\n",
    "end"
   ]
  },
  {
   "cell_type": "code",
   "execution_count": 7,
   "id": "22d428d1",
   "metadata": {
    "execution": {
     "iopub.execute_input": "2023-08-18T14:13:41.971000Z",
     "iopub.status.busy": "2023-08-18T14:13:41.971000Z",
     "iopub.status.idle": "2023-08-18T14:13:41.974000Z",
     "shell.execute_reply": "2023-08-18T14:13:41.974000Z"
    },
    "lines_to_next_cell": 2
   },
   "outputs": [
    {
     "data": {
      "text/plain": [
       "get_greedy"
      ]
     },
     "execution_count": 7,
     "metadata": {},
     "output_type": "execute_result"
    }
   ],
   "source": [
    "\"Get a v-greedy policy.  Returns indices of choices.\"\n",
    "function get_greedy(v, model)\n",
    "    (; K, c, κ, p, r, R, y_vals, z_vals, Q) = model\n",
    "    n_z = length(z_vals)\n",
    "    σ_star = zeros(Int32, K+1, n_z)\n",
    "    for (i_z, z) in enumerate(z_vals)\n",
    "        for (i_y, y) in enumerate(y_vals)\n",
    "            Γy = 1:(K - y + 1)\n",
    "            _, i_a = findmax(B(i_y, i_z, i_a, v, model) for i_a in Γy)\n",
    "            σ_star[i_y, i_z] = Γy[i_a]\n",
    "        end\n",
    "    end\n",
    "    return σ_star\n",
    "end"
   ]
  },
  {
   "cell_type": "code",
   "execution_count": 8,
   "id": "d5cf31e0",
   "metadata": {
    "execution": {
     "iopub.execute_input": "2023-08-18T14:13:41.975000Z",
     "iopub.status.busy": "2023-08-18T14:13:41.975000Z",
     "iopub.status.idle": "2023-08-18T14:13:41.976000Z",
     "shell.execute_reply": "2023-08-18T14:13:41.976000Z"
    },
    "lines_to_next_cell": 2
   },
   "outputs": [
    {
     "data": {
      "text/plain": [
       "get_value_approx"
      ]
     },
     "execution_count": 8,
     "metadata": {},
     "output_type": "execute_result"
    }
   ],
   "source": [
    "\"Approximate lifetime value of policy σ.\"\n",
    "function get_value_approx(v_init, σ, m, model)\n",
    "    v = v_init\n",
    "    for i in 1:m\n",
    "        v = T_σ(v, σ, model)\n",
    "    end\n",
    "    return v\n",
    "end"
   ]
  },
  {
   "cell_type": "code",
   "execution_count": 9,
   "id": "340ad8a2",
   "metadata": {
    "execution": {
     "iopub.execute_input": "2023-08-18T14:13:41.978000Z",
     "iopub.status.busy": "2023-08-18T14:13:41.978000Z",
     "iopub.status.idle": "2023-08-18T14:13:41.981000Z",
     "shell.execute_reply": "2023-08-18T14:13:41.981000Z"
    },
    "lines_to_next_cell": 2
   },
   "outputs": [
    {
     "data": {
      "text/plain": [
       "get_value"
      ]
     },
     "execution_count": 9,
     "metadata": {},
     "output_type": "execute_result"
    }
   ],
   "source": [
    "\"Get the value v_σ of policy σ.\"\n",
    "function get_value(σ, model)\n",
    "    (; K, c, κ, p, r, R, y_vals, z_vals, Q) = model\n",
    "    n_z, n_y = length(z_vals), length(y_vals)\n",
    "    n = n_z * n_y\n",
    "    # Build L_σ and r_σ as multi-index arrays\n",
    "    L_σ = zeros(n_y, n_z, n_y, n_z)\n",
    "    r_σ = zeros(n_y, n_z)\n",
    "    for i_y in 1:n_y\n",
    "        for i_z in 1:n_z \n",
    "            a = σ[i_y, i_z]\n",
    "            β = z_vals[i_z]\n",
    "            r_σ[i_y, i_z] = r[i_y, a]\n",
    "            for i_yp in 1:n_y\n",
    "                for i_zp in 1:n_z\n",
    "                    L_σ[i_y, i_z, i_yp, i_zp] = β * R[i_y, a, i_yp] * Q[i_z, i_zp]\n",
    "                end\n",
    "            end\n",
    "        end\n",
    "    end\n",
    "    # Reshape for matrix algebra\n",
    "    L_σ = reshape(L_σ, n, n)\n",
    "    r_σ = reshape(r_σ, n)\n",
    "    # Apply matrix operations --- solve for the value of σ \n",
    "    v_σ = (I - L_σ) \\ r_σ\n",
    "    # Return as multi-index array\n",
    "    return reshape(v_σ, n_y, n_z)\n",
    "end"
   ]
  },
  {
   "cell_type": "code",
   "execution_count": 10,
   "id": "91ce2ac0",
   "metadata": {
    "execution": {
     "iopub.execute_input": "2023-08-18T14:13:41.982000Z",
     "iopub.status.busy": "2023-08-18T14:13:41.982000Z",
     "iopub.status.idle": "2023-08-18T14:13:41.984000Z",
     "shell.execute_reply": "2023-08-18T14:13:41.983000Z"
    },
    "lines_to_next_cell": 2
   },
   "outputs": [
    {
     "data": {
      "text/plain": [
       "value_function_iteration"
      ]
     },
     "execution_count": 10,
     "metadata": {},
     "output_type": "execute_result"
    }
   ],
   "source": [
    "\"Use successive_approx to get v_star and then compute greedy.\"\n",
    "function value_function_iteration(v_init, model)\n",
    "    v_star = successive_approx(v -> T(v, model), v_init)\n",
    "    σ_star = get_greedy(v_star, model)\n",
    "    return v_star, σ_star\n",
    "end"
   ]
  },
  {
   "cell_type": "code",
   "execution_count": 11,
   "id": "c76eadd6",
   "metadata": {
    "execution": {
     "iopub.execute_input": "2023-08-18T14:13:41.985000Z",
     "iopub.status.busy": "2023-08-18T14:13:41.985000Z",
     "iopub.status.idle": "2023-08-18T14:13:41.988000Z",
     "shell.execute_reply": "2023-08-18T14:13:41.987000Z"
    },
    "lines_to_next_cell": 2
   },
   "outputs": [
    {
     "data": {
      "text/plain": [
       "optimistic_policy_iteration"
      ]
     },
     "execution_count": 11,
     "metadata": {},
     "output_type": "execute_result"
    }
   ],
   "source": [
    "\"Optimistic policy iteration routine.\"\n",
    "function optimistic_policy_iteration(v_init, \n",
    "                                     model; \n",
    "                                     tolerance=1e-6, \n",
    "                                     max_iter=1_000,\n",
    "                                     print_step=10,\n",
    "                                     m=60)\n",
    "    v = v_init\n",
    "    error = tolerance + 1\n",
    "    k = 1\n",
    "    while error > tolerance && k < max_iter\n",
    "        last_v = v\n",
    "        σ = get_greedy(v, model)\n",
    "        v = get_value_approx(v, σ, m, model)\n",
    "        error = maximum(abs.(v - last_v))\n",
    "        if k % print_step == 0\n",
    "            println(\"Completed iteration $k with error $error.\")\n",
    "        end\n",
    "        k += 1\n",
    "    end\n",
    "    return v, get_greedy(v, model)\n",
    "end"
   ]
  },
  {
   "cell_type": "code",
   "execution_count": 12,
   "id": "78f5f73d",
   "metadata": {
    "execution": {
     "iopub.execute_input": "2023-08-18T14:13:41.989000Z",
     "iopub.status.busy": "2023-08-18T14:13:41.989000Z",
     "iopub.status.idle": "2023-08-18T14:13:42.059000Z",
     "shell.execute_reply": "2023-08-18T14:13:42.059000Z"
    },
    "lines_to_next_cell": 2
   },
   "outputs": [
    {
     "data": {
      "text/plain": [
       "howard_policy_iteration (generic function with 1 method)"
      ]
     },
     "execution_count": 12,
     "metadata": {},
     "output_type": "execute_result"
    }
   ],
   "source": [
    "function howard_policy_iteration(v_init, model)\n",
    "    \"Howard policy iteration routine.\"\n",
    "    v_σ = v_init\n",
    "    σ = get_greedy(v_σ, model)\n",
    "    i, error = 0, 1.0\n",
    "    while error > 0\n",
    "        v_σ = get_value(σ, model)\n",
    "        σ_new = get_greedy(v_σ, model)\n",
    "        error = maximum(abs.(σ_new - σ))\n",
    "        σ = σ_new\n",
    "        i = i + 1\n",
    "        println(\"Concluded loop $i with error $error.\")\n",
    "    end\n",
    "    return v_σ, σ\n",
    "end"
   ]
  },
  {
   "cell_type": "markdown",
   "id": "88d1fe69",
   "metadata": {},
   "source": [
    "# Simulations and Plots "
   ]
  },
  {
   "cell_type": "code",
   "execution_count": 13,
   "id": "0d29c092",
   "metadata": {
    "execution": {
     "iopub.execute_input": "2023-08-18T14:13:42.060000Z",
     "iopub.status.busy": "2023-08-18T14:13:42.060000Z",
     "iopub.status.idle": "2023-08-18T14:13:44.929000Z",
     "shell.execute_reply": "2023-08-18T14:13:44.929000Z"
    }
   },
   "outputs": [],
   "source": [
    "using PyPlot\n",
    "using LaTeXStrings\n",
    "PyPlot.matplotlib[:rc](\"text\", usetex=true) # allow tex rendering"
   ]
  },
  {
   "cell_type": "code",
   "execution_count": 14,
   "id": "6c025b8a",
   "metadata": {
    "execution": {
     "iopub.execute_input": "2023-08-18T14:13:45.144000Z",
     "iopub.status.busy": "2023-08-18T14:13:44.931000Z",
     "iopub.status.idle": "2023-08-18T14:13:46.046000Z",
     "shell.execute_reply": "2023-08-18T14:13:46.046000Z"
    }
   },
   "outputs": [
    {
     "name": "stdout",
     "output_type": "stream",
     "text": [
      "Create model instance.\n"
     ]
    },
    {
     "name": "stdout",
     "output_type": "stream",
     "text": [
      "  0.156743 seconds (1.05 M allocations: 67.967 MiB, 12.62% gc time)\n"
     ]
    }
   ],
   "source": [
    "# Create an instance of the model and solve it\n",
    "println(\"Create model instance.\")\n",
    "@time model = create_sdd_inventory_model();"
   ]
  },
  {
   "cell_type": "code",
   "execution_count": 15,
   "id": "f79a54d8",
   "metadata": {
    "execution": {
     "iopub.execute_input": "2023-08-18T14:13:46.048000Z",
     "iopub.status.busy": "2023-08-18T14:13:46.048000Z",
     "iopub.status.idle": "2023-08-18T14:13:46.057000Z",
     "shell.execute_reply": "2023-08-18T14:13:46.057000Z"
    }
   },
   "outputs": [],
   "source": [
    "(; K, c, κ, p, r, R, y_vals, z_vals, Q) = model;\n",
    "n_z = length(z_vals)\n",
    "v_init = zeros(Float64, K+1, n_z);"
   ]
  },
  {
   "cell_type": "code",
   "execution_count": 16,
   "id": "7383f8c3",
   "metadata": {
    "execution": {
     "iopub.execute_input": "2023-08-18T14:13:46.058000Z",
     "iopub.status.busy": "2023-08-18T14:13:46.058000Z",
     "iopub.status.idle": "2023-08-18T14:13:59.793000Z",
     "shell.execute_reply": "2023-08-18T14:13:59.793000Z"
    }
   },
   "outputs": [
    {
     "name": "stdout",
     "output_type": "stream",
     "text": [
      "Solving model via OPI.\n"
     ]
    },
    {
     "name": "stdout",
     "output_type": "stream",
     "text": [
      "Completed iteration 10 with error 0.00398914428492958.\n"
     ]
    },
    {
     "name": "stdout",
     "output_type": "stream",
     "text": [
      " 13.720422 seconds (660.03 k allocations: 63.843 MiB, 0.08% gc time, 2.19% compilation time)\n"
     ]
    }
   ],
   "source": [
    "println(\"Solving model via OPI.\")\n",
    "@time v_star, σ_star = optimistic_policy_iteration(v_init, model);"
   ]
  },
  {
   "cell_type": "code",
   "execution_count": 17,
   "id": "c7465656",
   "metadata": {
    "execution": {
     "iopub.execute_input": "2023-08-18T14:13:59.795000Z",
     "iopub.status.busy": "2023-08-18T14:13:59.795000Z",
     "iopub.status.idle": "2023-08-18T14:17:32.521000Z",
     "shell.execute_reply": "2023-08-18T14:17:32.521000Z"
    }
   },
   "outputs": [
    {
     "name": "stdout",
     "output_type": "stream",
     "text": [
      "Solving model via VFI.\n"
     ]
    },
    {
     "name": "stdout",
     "output_type": "stream",
     "text": [
      "Completed iteration 25 with error 0.5612918187425802.\n"
     ]
    },
    {
     "name": "stdout",
     "output_type": "stream",
     "text": [
      "Completed iteration 50 with error 0.37760311527087964.\n"
     ]
    },
    {
     "name": "stdout",
     "output_type": "stream",
     "text": [
      "Completed iteration 75 with error 0.22781271574230288.\n"
     ]
    },
    {
     "name": "stdout",
     "output_type": "stream",
     "text": [
      "Completed iteration 100 with error 0.12966912474841763.\n"
     ]
    },
    {
     "name": "stdout",
     "output_type": "stream",
     "text": [
      "Completed iteration 125 with error 0.06841133244553532.\n"
     ]
    },
    {
     "name": "stdout",
     "output_type": "stream",
     "text": [
      "Completed iteration 150 with error 0.03108826968598777.\n"
     ]
    },
    {
     "name": "stdout",
     "output_type": "stream",
     "text": [
      "Completed iteration 175 with error 0.014717604780919658.\n"
     ]
    },
    {
     "name": "stdout",
     "output_type": "stream",
     "text": [
      "Completed iteration 200 with error 0.007728671529967812.\n"
     ]
    },
    {
     "name": "stdout",
     "output_type": "stream",
     "text": [
      "Completed iteration 225 with error 0.0041302272069572155.\n"
     ]
    },
    {
     "name": "stdout",
     "output_type": "stream",
     "text": [
      "Completed iteration 250 with error 0.0022064598130668855.\n"
     ]
    },
    {
     "name": "stdout",
     "output_type": "stream",
     "text": [
      "Completed iteration 275 with error 0.0011779116780843424.\n"
     ]
    },
    {
     "name": "stdout",
     "output_type": "stream",
     "text": [
      "Completed iteration 300 with error 0.0006285733275888106.\n"
     ]
    },
    {
     "name": "stdout",
     "output_type": "stream",
     "text": [
      "Completed iteration 325 with error 0.0003353535262320406.\n"
     ]
    },
    {
     "name": "stdout",
     "output_type": "stream",
     "text": [
      "Completed iteration 350 with error 0.00017889424245964847.\n"
     ]
    },
    {
     "name": "stdout",
     "output_type": "stream",
     "text": [
      "Completed iteration 375 with error 9.542456401590016e-5.\n"
     ]
    },
    {
     "name": "stdout",
     "output_type": "stream",
     "text": [
      "Completed iteration 400 with error 5.08987992517973e-5.\n"
     ]
    },
    {
     "name": "stdout",
     "output_type": "stream",
     "text": [
      "Completed iteration 425 with error 2.7148494247342114e-5.\n"
     ]
    },
    {
     "name": "stdout",
     "output_type": "stream",
     "text": [
      "Completed iteration 450 with error 1.448034407758314e-5.\n"
     ]
    },
    {
     "name": "stdout",
     "output_type": "stream",
     "text": [
      "Completed iteration 475 with error 7.723411926008339e-6.\n"
     ]
    },
    {
     "name": "stdout",
     "output_type": "stream",
     "text": [
      "Completed iteration 500 with error 4.119437804206427e-6.\n"
     ]
    },
    {
     "name": "stdout",
     "output_type": "stream",
     "text": [
      "Completed iteration 525 with error 2.1971809971432776e-6.\n"
     ]
    },
    {
     "name": "stdout",
     "output_type": "stream",
     "text": [
      "Completed iteration 550 with error 1.1719072361415783e-6.\n"
     ]
    },
    {
     "name": "stdout",
     "output_type": "stream",
     "text": [
      "Terminated successfully in 558 iterations.\n"
     ]
    },
    {
     "name": "stdout",
     "output_type": "stream",
     "text": [
      "212.711098 seconds (206.24 k allocations: 46.261 MiB, 0.00% gc time, 0.04% compilation time)\n"
     ]
    }
   ],
   "source": [
    "println(\"Solving model via VFI.\")\n",
    "@time v_star_vfi, σ_star_vfi = value_function_iteration(v_init, model);"
   ]
  },
  {
   "cell_type": "code",
   "execution_count": 18,
   "id": "fcbaa79c",
   "metadata": {
    "execution": {
     "iopub.execute_input": "2023-08-18T14:17:32.523000Z",
     "iopub.status.busy": "2023-08-18T14:17:32.523000Z",
     "iopub.status.idle": "2023-08-18T14:17:37.518000Z",
     "shell.execute_reply": "2023-08-18T14:17:37.518000Z"
    },
    "lines_to_next_cell": 2
   },
   "outputs": [
    {
     "name": "stdout",
     "output_type": "stream",
     "text": [
      "Solving model via HPI.\n"
     ]
    },
    {
     "name": "stdout",
     "output_type": "stream",
     "text": [
      "Concluded loop 1 with error 66.\n"
     ]
    },
    {
     "name": "stdout",
     "output_type": "stream",
     "text": [
      "Concluded loop 2 with error 60.\n"
     ]
    },
    {
     "name": "stdout",
     "output_type": "stream",
     "text": [
      "Concluded loop 3 with error 32.\n"
     ]
    },
    {
     "name": "stdout",
     "output_type": "stream",
     "text": [
      "Concluded loop 4 with error 32.\n"
     ]
    },
    {
     "name": "stdout",
     "output_type": "stream",
     "text": [
      "Concluded loop 5 with error 24.\n"
     ]
    },
    {
     "name": "stdout",
     "output_type": "stream",
     "text": [
      "Concluded loop 6 with error 24.\n"
     ]
    },
    {
     "name": "stdout",
     "output_type": "stream",
     "text": [
      "Concluded loop 7 with error 24.\n"
     ]
    },
    {
     "name": "stdout",
     "output_type": "stream",
     "text": [
      "Concluded loop 8 with error 0.\n",
      "  4.980210 seconds (469.70 k allocations: 1.172 GiB, 1.51% gc time, 4.83% compilation time)\n"
     ]
    }
   ],
   "source": [
    "println(\"Solving model via HPI.\")\n",
    "@time v_star_hpi, σ_star_hpi = howard_policy_iteration(v_init, model);"
   ]
  },
  {
   "cell_type": "code",
   "execution_count": 19,
   "id": "de4dc17e",
   "metadata": {
    "execution": {
     "iopub.execute_input": "2023-08-18T14:17:37.520000Z",
     "iopub.status.busy": "2023-08-18T14:17:37.520000Z",
     "iopub.status.idle": "2023-08-18T14:17:37.557000Z",
     "shell.execute_reply": "2023-08-18T14:17:37.557000Z"
    }
   },
   "outputs": [
    {
     "data": {
      "text/plain": [
       "sim_inventories"
      ]
     },
     "execution_count": 19,
     "metadata": {},
     "output_type": "execute_result"
    }
   ],
   "source": [
    "\"Simulate given the optimal policy.\"\n",
    "function sim_inventories(ts_length; X_init=0, seed=500)\n",
    "    Random.seed!(seed) \n",
    "    z_mc = MarkovChain(Q, z_vals)\n",
    "    i_z = simulate_indices(z_mc, ts_length, init=1)\n",
    "    G = Geometric(p)\n",
    "    X = zeros(Int32, ts_length)\n",
    "    X[1] = X_init\n",
    "    for t in 1:(ts_length-1)\n",
    "        D′ = rand(G)\n",
    "        x_index = X[t] + 1\n",
    "        a = σ_star[x_index, i_z[t]] - 1\n",
    "        X[t+1] = f(X[t],  a,  D′)\n",
    "    end\n",
    "    return X, z_vals[i_z]\n",
    "end"
   ]
  },
  {
   "cell_type": "code",
   "execution_count": 20,
   "id": "f3cee882",
   "metadata": {
    "execution": {
     "iopub.execute_input": "2023-08-18T14:17:37.558000Z",
     "iopub.status.busy": "2023-08-18T14:17:37.558000Z",
     "iopub.status.idle": "2023-08-18T14:17:37.671000Z",
     "shell.execute_reply": "2023-08-18T14:17:37.671000Z"
    }
   },
   "outputs": [
    {
     "data": {
      "text/plain": [
       "plot_ts (generic function with 1 method)"
      ]
     },
     "execution_count": 20,
     "metadata": {},
     "output_type": "execute_result"
    }
   ],
   "source": [
    "function plot_ts(; ts_length=400,\n",
    "                   fontsize=16, \n",
    "                   figname=\"../figures/inventory_sdd_ts.pdf\",\n",
    "                   savefig=false)\n",
    "    X, Z = sim_inventories(ts_length)\n",
    "    fig, axes = plt.subplots(2, 1, figsize=(9, 5.5))\n",
    "\n",
    "    ax = axes[1]\n",
    "    ax.plot(X, label=\"inventory\", alpha=0.7)\n",
    "    ax.set_xlabel(L\"t\", fontsize=fontsize)\n",
    "    ax.legend(fontsize=fontsize, frameon=false)\n",
    "    ax.set_ylim(0, maximum(X)+3)\n",
    "\n",
    "    # calculate interest rate from discount factors\n",
    "    r = (1 ./ Z) .- 1\n",
    "\n",
    "    ax = axes[2]\n",
    "    ax.plot(r, label=L\"r_t\", alpha=0.7)\n",
    "    ax.set_xlabel(L\"t\", fontsize=fontsize)\n",
    "    ax.legend(fontsize=fontsize, frameon=false)\n",
    "    #ax.set_ylim(0, maximum(X)+8)\n",
    "\n",
    "    plt.tight_layout()\n",
    "    plt.show()\n",
    "    if savefig == true\n",
    "        fig.savefig(figname)\n",
    "    end\n",
    "end"
   ]
  },
  {
   "cell_type": "code",
   "execution_count": 21,
   "id": "800a5302",
   "metadata": {
    "execution": {
     "iopub.execute_input": "2023-08-18T14:17:37.673000Z",
     "iopub.status.busy": "2023-08-18T14:17:37.673000Z",
     "iopub.status.idle": "2023-08-18T14:17:37.734000Z",
     "shell.execute_reply": "2023-08-18T14:17:37.734000Z"
    }
   },
   "outputs": [
    {
     "data": {
      "text/plain": [
       "plot_timing (generic function with 1 method)"
      ]
     },
     "execution_count": 21,
     "metadata": {},
     "output_type": "execute_result"
    }
   ],
   "source": [
    "function plot_timing(; m_vals=collect(range(1, 100, step=20)),\n",
    "                       fontsize=12)\n",
    "\n",
    "    println(\"Running Howard policy iteration.\")\n",
    "    hpi_time = @elapsed _ = howard_policy_iteration(v_init, model)\n",
    "    println(\"HPI completed in $hpi_time seconds.\")\n",
    "\n",
    "    println(\"Running value function iteration.\")\n",
    "    vfi_time = @elapsed _ = value_function_iteration(v_init, model)\n",
    "    println(\"VFI completed in $vfi_time seconds.\")\n",
    "\n",
    "    println(\"Starting Howard policy iteration.\")\n",
    "    opi_times = []\n",
    "    for m in m_vals\n",
    "        println(\"Running optimistic policy iteration with m=$m.\")\n",
    "        opi_time = @elapsed σ_opi = optimistic_policy_iteration(v_init, model, m=m)\n",
    "        println(\"OPI with m=$m completed in $opi_time seconds.\")\n",
    "        push!(opi_times, opi_time)\n",
    "    end\n",
    "\n",
    "    fig, ax = plt.subplots(figsize=(9, 5.2))\n",
    "    ax.plot(m_vals, fill(hpi_time, length(m_vals)), \n",
    "            lw=2, label=\"Howard policy iteration\")\n",
    "    ax.plot(m_vals, fill(vfi_time, length(m_vals)), \n",
    "            lw=2, label=\"value function iteration\")\n",
    "    ax.plot(m_vals, opi_times, lw=2, label=\"optimistic policy iteration\")\n",
    "    ax.legend(fontsize=fontsize, frameon=false)\n",
    "    ax.set_xlabel(L\"m\", fontsize=fontsize)\n",
    "    ax.set_ylabel(\"time\", fontsize=fontsize)\n",
    "    plt.show()\n",
    "\n",
    "    return (hpi_time, vfi_time, opi_times)\n",
    "end"
   ]
  },
  {
   "cell_type": "code",
   "execution_count": 22,
   "id": "7dede5e3",
   "metadata": {
    "execution": {
     "iopub.execute_input": "2023-08-18T14:17:37.735000Z",
     "iopub.status.busy": "2023-08-18T14:17:37.735000Z",
     "iopub.status.idle": "2023-08-18T14:25:49.676000Z",
     "shell.execute_reply": "2023-08-18T14:25:49.676000Z"
    }
   },
   "outputs": [
    {
     "name": "stdout",
     "output_type": "stream",
     "text": [
      "Running Howard policy iteration.\n"
     ]
    },
    {
     "name": "stdout",
     "output_type": "stream",
     "text": [
      "Concluded loop 1 with error 66.\n"
     ]
    },
    {
     "name": "stdout",
     "output_type": "stream",
     "text": [
      "Concluded loop 2 with error 60.\n"
     ]
    },
    {
     "name": "stdout",
     "output_type": "stream",
     "text": [
      "Concluded loop 3 with error 32.\n"
     ]
    },
    {
     "name": "stdout",
     "output_type": "stream",
     "text": [
      "Concluded loop 4 with error 32.\n"
     ]
    },
    {
     "name": "stdout",
     "output_type": "stream",
     "text": [
      "Concluded loop 5 with error 24.\n"
     ]
    },
    {
     "name": "stdout",
     "output_type": "stream",
     "text": [
      "Concluded loop 6 with error 24.\n"
     ]
    },
    {
     "name": "stdout",
     "output_type": "stream",
     "text": [
      "Concluded loop 7 with error 24.\n"
     ]
    },
    {
     "name": "stdout",
     "output_type": "stream",
     "text": [
      "Concluded loop 8 with error 0.\n",
      "HPI completed in 4.497721919 seconds.\n",
      "Running value function iteration.\n"
     ]
    },
    {
     "name": "stdout",
     "output_type": "stream",
     "text": [
      "Completed iteration 25 with error 0.5612918187425802.\n"
     ]
    },
    {
     "name": "stdout",
     "output_type": "stream",
     "text": [
      "Completed iteration 50 with error 0.37760311527087964.\n"
     ]
    },
    {
     "name": "stdout",
     "output_type": "stream",
     "text": [
      "Completed iteration 75 with error 0.22781271574230288.\n"
     ]
    },
    {
     "name": "stdout",
     "output_type": "stream",
     "text": [
      "Completed iteration 100 with error 0.12966912474841763.\n"
     ]
    },
    {
     "name": "stdout",
     "output_type": "stream",
     "text": [
      "Completed iteration 125 with error 0.06841133244553532.\n"
     ]
    },
    {
     "name": "stdout",
     "output_type": "stream",
     "text": [
      "Completed iteration 150 with error 0.03108826968598777.\n"
     ]
    },
    {
     "name": "stdout",
     "output_type": "stream",
     "text": [
      "Completed iteration 175 with error 0.014717604780919658.\n"
     ]
    },
    {
     "name": "stdout",
     "output_type": "stream",
     "text": [
      "Completed iteration 200 with error 0.007728671529967812.\n"
     ]
    },
    {
     "name": "stdout",
     "output_type": "stream",
     "text": [
      "Completed iteration 225 with error 0.0041302272069572155.\n"
     ]
    },
    {
     "name": "stdout",
     "output_type": "stream",
     "text": [
      "Completed iteration 250 with error 0.0022064598130668855.\n"
     ]
    },
    {
     "name": "stdout",
     "output_type": "stream",
     "text": [
      "Completed iteration 275 with error 0.0011779116780843424.\n"
     ]
    },
    {
     "name": "stdout",
     "output_type": "stream",
     "text": [
      "Completed iteration 300 with error 0.0006285733275888106.\n"
     ]
    },
    {
     "name": "stdout",
     "output_type": "stream",
     "text": [
      "Completed iteration 325 with error 0.0003353535262320406.\n"
     ]
    },
    {
     "name": "stdout",
     "output_type": "stream",
     "text": [
      "Completed iteration 350 with error 0.00017889424245964847.\n"
     ]
    },
    {
     "name": "stdout",
     "output_type": "stream",
     "text": [
      "Completed iteration 375 with error 9.542456401590016e-5.\n"
     ]
    },
    {
     "name": "stdout",
     "output_type": "stream",
     "text": [
      "Completed iteration 400 with error 5.08987992517973e-5.\n"
     ]
    },
    {
     "name": "stdout",
     "output_type": "stream",
     "text": [
      "Completed iteration 425 with error 2.7148494247342114e-5.\n"
     ]
    },
    {
     "name": "stdout",
     "output_type": "stream",
     "text": [
      "Completed iteration 450 with error 1.448034407758314e-5.\n"
     ]
    },
    {
     "name": "stdout",
     "output_type": "stream",
     "text": [
      "Completed iteration 475 with error 7.723411926008339e-6.\n"
     ]
    },
    {
     "name": "stdout",
     "output_type": "stream",
     "text": [
      "Completed iteration 500 with error 4.119437804206427e-6.\n"
     ]
    },
    {
     "name": "stdout",
     "output_type": "stream",
     "text": [
      "Completed iteration 525 with error 2.1971809971432776e-6.\n"
     ]
    },
    {
     "name": "stdout",
     "output_type": "stream",
     "text": [
      "Completed iteration 550 with error 1.1719072361415783e-6.\n"
     ]
    },
    {
     "name": "stdout",
     "output_type": "stream",
     "text": [
      "Terminated successfully in 558 iterations.\n"
     ]
    },
    {
     "name": "stdout",
     "output_type": "stream",
     "text": [
      "VFI completed in 211.743863844 seconds.\n",
      "Starting Howard policy iteration.\n",
      "Running optimistic policy iteration with m=1.\n"
     ]
    },
    {
     "name": "stdout",
     "output_type": "stream",
     "text": [
      "Completed iteration 10 with error 0.6480358762326075.\n"
     ]
    },
    {
     "name": "stdout",
     "output_type": "stream",
     "text": [
      "Completed iteration 20 with error 0.5949305169605861.\n"
     ]
    },
    {
     "name": "stdout",
     "output_type": "stream",
     "text": [
      "Completed iteration 30 with error 0.5251459484602243.\n"
     ]
    },
    {
     "name": "stdout",
     "output_type": "stream",
     "text": [
      "Completed iteration 40 with error 0.45024112605453226.\n"
     ]
    },
    {
     "name": "stdout",
     "output_type": "stream",
     "text": [
      "Completed iteration 50 with error 0.37760311527087964.\n"
     ]
    },
    {
     "name": "stdout",
     "output_type": "stream",
     "text": [
      "Completed iteration 60 with error 0.3113925226324419.\n"
     ]
    },
    {
     "name": "stdout",
     "output_type": "stream",
     "text": [
      "Completed iteration 70 with error 0.25348563920215383.\n"
     ]
    },
    {
     "name": "stdout",
     "output_type": "stream",
     "text": [
      "Completed iteration 80 with error 0.20428999885410803.\n"
     ]
    },
    {
     "name": "stdout",
     "output_type": "stream",
     "text": [
      "Completed iteration 90 with error 0.1633451023325776.\n"
     ]
    },
    {
     "name": "stdout",
     "output_type": "stream",
     "text": [
      "Completed iteration 100 with error 0.12966912474841763.\n"
     ]
    },
    {
     "name": "stdout",
     "output_type": "stream",
     "text": [
      "Completed iteration 110 with error 0.10191243757392954.\n"
     ]
    },
    {
     "name": "stdout",
     "output_type": "stream",
     "text": [
      "Completed iteration 120 with error 0.07865530805723608.\n"
     ]
    },
    {
     "name": "stdout",
     "output_type": "stream",
     "text": [
      "Completed iteration 130 with error 0.05904856720101037.\n"
     ]
    },
    {
     "name": "stdout",
     "output_type": "stream",
     "text": [
      "Completed iteration 140 with error 0.04311205522372319.\n"
     ]
    },
    {
     "name": "stdout",
     "output_type": "stream",
     "text": [
      "Completed iteration 150 with error 0.03108826968598777.\n"
     ]
    },
    {
     "name": "stdout",
     "output_type": "stream",
     "text": [
      "Completed iteration 160 with error 0.02264742077780113.\n"
     ]
    },
    {
     "name": "stdout",
     "output_type": "stream",
     "text": [
      "Completed iteration 170 with error 0.016892736361924676.\n"
     ]
    },
    {
     "name": "stdout",
     "output_type": "stream",
     "text": [
      "Completed iteration 180 with error 0.01287975724365964.\n"
     ]
    },
    {
     "name": "stdout",
     "output_type": "stream",
     "text": [
      "Completed iteration 190 with error 0.009949277899586662.\n"
     ]
    },
    {
     "name": "stdout",
     "output_type": "stream",
     "text": [
      "Completed iteration 200 with error 0.007728671529967812.\n"
     ]
    },
    {
     "name": "stdout",
     "output_type": "stream",
     "text": [
      "Completed iteration 210 with error 0.0060141729953926415.\n"
     ]
    },
    {
     "name": "stdout",
     "output_type": "stream",
     "text": [
      "Completed iteration 220 with error 0.004681465137338137.\n"
     ]
    },
    {
     "name": "stdout",
     "output_type": "stream",
     "text": [
      "Completed iteration 230 with error 0.0036437639326507565.\n"
     ]
    },
    {
     "name": "stdout",
     "output_type": "stream",
     "text": [
      "Completed iteration 240 with error 0.0028356519919299217.\n"
     ]
    },
    {
     "name": "stdout",
     "output_type": "stream",
     "text": [
      "Completed iteration 250 with error 0.0022064598130668855.\n"
     ]
    },
    {
     "name": "stdout",
     "output_type": "stream",
     "text": [
      "Completed iteration 260 with error 0.001716684887533404.\n"
     ]
    },
    {
     "name": "stdout",
     "output_type": "stream",
     "text": [
      "Completed iteration 270 with error 0.0013355082948720565.\n"
     ]
    },
    {
     "name": "stdout",
     "output_type": "stream",
     "text": [
      "Completed iteration 280 with error 0.001038896093632502.\n"
     ]
    },
    {
     "name": "stdout",
     "output_type": "stream",
     "text": [
      "Completed iteration 290 with error 0.0008081157057162613.\n"
     ]
    },
    {
     "name": "stdout",
     "output_type": "stream",
     "text": [
      "Completed iteration 300 with error 0.0006285733275888106.\n"
     ]
    },
    {
     "name": "stdout",
     "output_type": "stream",
     "text": [
      "Completed iteration 310 with error 0.0004889036860262763.\n"
     ]
    },
    {
     "name": "stdout",
     "output_type": "stream",
     "text": [
      "Completed iteration 320 with error 0.0003802583785841307.\n"
     ]
    },
    {
     "name": "stdout",
     "output_type": "stream",
     "text": [
      "Completed iteration 330 with error 0.0002957500884122055.\n"
     ]
    },
    {
     "name": "stdout",
     "output_type": "stream",
     "text": [
      "Completed iteration 340 with error 0.00023001891724305779.\n"
     ]
    },
    {
     "name": "stdout",
     "output_type": "stream",
     "text": [
      "Completed iteration 350 with error 0.00017889424245964847.\n"
     ]
    },
    {
     "name": "stdout",
     "output_type": "stream",
     "text": [
      "Completed iteration 360 with error 0.0001391312026015612.\n"
     ]
    },
    {
     "name": "stdout",
     "output_type": "stream",
     "text": [
      "Completed iteration 370 with error 0.00010820542955514156.\n"
     ]
    },
    {
     "name": "stdout",
     "output_type": "stream",
     "text": [
      "Completed iteration 380 with error 8.415320764498802e-5.\n"
     ]
    },
    {
     "name": "stdout",
     "output_type": "stream",
     "text": [
      "Completed iteration 390 with error 6.544703997946044e-5.\n"
     ]
    },
    {
     "name": "stdout",
     "output_type": "stream",
     "text": [
      "Completed iteration 400 with error 5.08987992517973e-5.\n"
     ]
    },
    {
     "name": "stdout",
     "output_type": "stream",
     "text": [
      "Completed iteration 410 with error 3.958436084872119e-5.\n"
     ]
    },
    {
     "name": "stdout",
     "output_type": "stream",
     "text": [
      "Completed iteration 420 with error 3.0784961055019266e-5.\n"
     ]
    },
    {
     "name": "stdout",
     "output_type": "stream",
     "text": [
      "Completed iteration 430 with error 2.394157341001346e-5.\n"
     ]
    },
    {
     "name": "stdout",
     "output_type": "stream",
     "text": [
      "Completed iteration 440 with error 1.861941635183939e-5.\n"
     ]
    },
    {
     "name": "stdout",
     "output_type": "stream",
     "text": [
      "Completed iteration 450 with error 1.448034407758314e-5.\n"
     ]
    },
    {
     "name": "stdout",
     "output_type": "stream",
     "text": [
      "Completed iteration 460 with error 1.1261370829629413e-5.\n"
     ]
    },
    {
     "name": "stdout",
     "output_type": "stream",
     "text": [
      "Completed iteration 470 with error 8.757966703853981e-6.\n"
     ]
    },
    {
     "name": "stdout",
     "output_type": "stream",
     "text": [
      "Completed iteration 480 with error 6.81106531885689e-6.\n"
     ]
    },
    {
     "name": "stdout",
     "output_type": "stream",
     "text": [
      "Completed iteration 490 with error 5.296958661915596e-6.\n"
     ]
    },
    {
     "name": "stdout",
     "output_type": "stream",
     "text": [
      "Completed iteration 500 with error 4.119437804206427e-6.\n"
     ]
    },
    {
     "name": "stdout",
     "output_type": "stream",
     "text": [
      "Completed iteration 510 with error 3.203680385865937e-6.\n"
     ]
    },
    {
     "name": "stdout",
     "output_type": "stream",
     "text": [
      "Completed iteration 520 with error 2.4914966303413166e-6.\n"
     ]
    },
    {
     "name": "stdout",
     "output_type": "stream",
     "text": [
      "Completed iteration 530 with error 1.9376322057951256e-6.\n"
     ]
    },
    {
     "name": "stdout",
     "output_type": "stream",
     "text": [
      "Completed iteration 540 with error 1.506892658653669e-6.\n"
     ]
    },
    {
     "name": "stdout",
     "output_type": "stream",
     "text": [
      "Completed iteration 550 with error 1.1719072361415783e-6.\n"
     ]
    },
    {
     "name": "stdout",
     "output_type": "stream",
     "text": [
      "OPI with m=1 completed in 215.62389411 seconds.\n",
      "Running optimistic policy iteration with m=21.\n"
     ]
    },
    {
     "name": "stdout",
     "output_type": "stream",
     "text": [
      "Completed iteration 10 with error 0.23575181290821234.\n"
     ]
    },
    {
     "name": "stdout",
     "output_type": "stream",
     "text": [
      "Completed iteration 20 with error 0.0012292555287345408.\n"
     ]
    },
    {
     "name": "stdout",
     "output_type": "stream",
     "text": [
      "Completed iteration 30 with error 6.262373979382119e-6.\n"
     ]
    },
    {
     "name": "stdout",
     "output_type": "stream",
     "text": [
      "OPI with m=21 completed in 18.21329832 seconds.\n",
      "Running optimistic policy iteration with m=41.\n"
     ]
    },
    {
     "name": "stdout",
     "output_type": "stream",
     "text": [
      "Completed iteration 10 with error 0.02117210695655558.\n"
     ]
    },
    {
     "name": "stdout",
     "output_type": "stream",
     "text": [
      "Completed iteration 20 with error 6.989141212443428e-7.\n"
     ]
    },
    {
     "name": "stdout",
     "output_type": "stream",
     "text": [
      "OPI with m=41 completed in 13.626797158 seconds.\n",
      "Running optimistic policy iteration with m=61.\n"
     ]
    },
    {
     "name": "stdout",
     "output_type": "stream",
     "text": [
      "Completed iteration 10 with error 0.002919326747964135.\n"
     ]
    },
    {
     "name": "stdout",
     "output_type": "stream",
     "text": [
      "OPI with m=61 completed in 13.181334932 seconds.\n",
      "Running optimistic policy iteration with m=81.\n"
     ]
    },
    {
     "name": "stdout",
     "output_type": "stream",
     "text": [
      "Completed iteration 10 with error 0.0003544690333612266.\n"
     ]
    },
    {
     "name": "stdout",
     "output_type": "stream",
     "text": [
      "OPI with m=81 completed in 12.59793121 seconds.\n"
     ]
    },
    {
     "data": {
      "text/plain": [
       "Figure(PyObject <Figure size 900x520 with 1 Axes>)"
      ]
     },
     "metadata": {},
     "output_type": "display_data"
    },
    {
     "data": {
      "text/plain": [
       "(4.497721919, 211.743863844, Any[215.62389411, 18.21329832, 13.626797158, 13.181334932, 12.59793121])"
      ]
     },
     "execution_count": 22,
     "metadata": {},
     "output_type": "execute_result"
    }
   ],
   "source": [
    "hpi_time, vfi_time, opi_times = plot_timing()"
   ]
  }
 ],
 "metadata": {
  "jupytext": {
   "cell_metadata_filter": "-all",
   "encoding": "# -*- coding: utf-8 -*-",
   "main_language": "julia",
   "notebook_metadata_filter": "-all"
  },
  "kernelspec": {
   "display_name": "Julia",
   "language": "julia",
   "name": "julia-1.9"
  },
  "language_info": {
   "file_extension": ".jl",
   "mimetype": "application/julia",
   "name": "julia",
   "version": "1.9.2"
  }
 },
 "nbformat": 4,
 "nbformat_minor": 5
}
