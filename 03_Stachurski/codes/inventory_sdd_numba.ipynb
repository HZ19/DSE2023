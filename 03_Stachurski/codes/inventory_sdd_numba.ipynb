{
 "cells": [
  {
   "cell_type": "markdown",
   "id": "0411fa70",
   "metadata": {},
   "source": [
    "# Solve the inventory management problem using Python/Numba.\n",
    "\n",
    "John Stachurski\n",
    "Sun 13 Aug 2023 04:25:41"
   ]
  },
  {
   "cell_type": "code",
   "execution_count": 1,
   "id": "53932696",
   "metadata": {
    "execution": {
     "iopub.execute_input": "2023-08-18T05:02:20.513640Z",
     "iopub.status.busy": "2023-08-18T05:02:20.513118Z",
     "iopub.status.idle": "2023-08-18T05:02:21.334327Z",
     "shell.execute_reply": "2023-08-18T05:02:21.333857Z"
    }
   },
   "outputs": [],
   "source": [
    "from model import *\n",
    "from dp_algos import *\n",
    "from plot_code import *"
   ]
  },
  {
   "cell_type": "code",
   "execution_count": 2,
   "id": "b57a4c02",
   "metadata": {
    "execution": {
     "iopub.execute_input": "2023-08-18T05:02:21.336273Z",
     "iopub.status.busy": "2023-08-18T05:02:21.336078Z",
     "iopub.status.idle": "2023-08-18T05:02:21.338737Z",
     "shell.execute_reply": "2023-08-18T05:02:21.338284Z"
    },
    "lines_to_next_cell": 1
   },
   "outputs": [],
   "source": [
    "f = njit(f) # use numba to JIT-compile f"
   ]
  },
  {
   "cell_type": "markdown",
   "id": "908d890c",
   "metadata": {},
   "source": [
    "# Operators and functions "
   ]
  },
  {
   "cell_type": "code",
   "execution_count": 3,
   "id": "01140dfb",
   "metadata": {
    "execution": {
     "iopub.execute_input": "2023-08-18T05:02:21.340397Z",
     "iopub.status.busy": "2023-08-18T05:02:21.340091Z",
     "iopub.status.idle": "2023-08-18T05:02:21.343615Z",
     "shell.execute_reply": "2023-08-18T05:02:21.343204Z"
    },
    "lines_to_next_cell": 1
   },
   "outputs": [],
   "source": [
    "@njit\n",
    "def B(y, i_z, a, v, model):\n",
    "    \"\"\"\n",
    "    B(y, a, v) = r(y, a) + β(z) Σ_{y′, z′} v(y′, z′) R(y, a, y′) Q(z, z′)\n",
    "\n",
    "    \"\"\"\n",
    "    K, c, κ, p = model.params\n",
    "    r, R, y_vals, z_vals, Q = model.arrays\n",
    "    β = z_vals[i_z]\n",
    "    cv = 0.0\n",
    "    for i_zp in range(len(z_vals)):\n",
    "        for yp in y_vals:\n",
    "            cv += v[yp, i_zp] * R[y, a, yp] * Q[i_z, i_zp]\n",
    "    return r[y, a] + β * cv"
   ]
  },
  {
   "cell_type": "code",
   "execution_count": 4,
   "id": "e9dbc94a",
   "metadata": {
    "execution": {
     "iopub.execute_input": "2023-08-18T05:02:21.345299Z",
     "iopub.status.busy": "2023-08-18T05:02:21.345025Z",
     "iopub.status.idle": "2023-08-18T05:02:21.348470Z",
     "shell.execute_reply": "2023-08-18T05:02:21.348060Z"
    }
   },
   "outputs": [],
   "source": [
    "@njit\n",
    "def T(v, model):\n",
    "    \"The Bellman operator.\"\n",
    "    K, c, κ, p = model.params\n",
    "    r, R, y_vals, z_vals, Q = model.arrays\n",
    "    n_y, n_z = model.sizes\n",
    "    new_v = np.empty_like(v)\n",
    "    for i_z in range(n_z):\n",
    "        for y in y_vals:\n",
    "            Γy = range(K - y + 1)\n",
    "            B_vals = [B(y, i_z, a, v, model) for a in Γy]\n",
    "            new_v[y, i_z] = max(B_vals)\n",
    "    return new_v"
   ]
  },
  {
   "cell_type": "code",
   "execution_count": 5,
   "id": "e2648852",
   "metadata": {
    "execution": {
     "iopub.execute_input": "2023-08-18T05:02:21.350162Z",
     "iopub.status.busy": "2023-08-18T05:02:21.349824Z",
     "iopub.status.idle": "2023-08-18T05:02:21.352859Z",
     "shell.execute_reply": "2023-08-18T05:02:21.352442Z"
    },
    "lines_to_next_cell": 1
   },
   "outputs": [],
   "source": [
    "@njit\n",
    "def T_σ(v, σ, model):\n",
    "    \"The policy operator.\"\n",
    "    K, c, κ, p = model.params\n",
    "    r, R, y_vals, z_vals, Q = model.arrays\n",
    "    n_y, n_z = model.sizes\n",
    "    new_v = np.empty_like(v)\n",
    "    for i_z in range(n_z):\n",
    "        for y in y_vals:\n",
    "            new_v[y, i_z] = B(y, i_z, σ[y, i_z], v, model) \n",
    "    return new_v"
   ]
  },
  {
   "cell_type": "code",
   "execution_count": 6,
   "id": "de99f3e8",
   "metadata": {
    "execution": {
     "iopub.execute_input": "2023-08-18T05:02:21.354465Z",
     "iopub.status.busy": "2023-08-18T05:02:21.354324Z",
     "iopub.status.idle": "2023-08-18T05:02:21.357768Z",
     "shell.execute_reply": "2023-08-18T05:02:21.357392Z"
    },
    "lines_to_next_cell": 1
   },
   "outputs": [],
   "source": [
    "@njit\n",
    "def get_greedy(v, model):\n",
    "    \"Get a v-greedy policy.  Returns indices of choices.\"\n",
    "    K, c, κ, p = model.params\n",
    "    r, R, y_vals, z_vals, Q = model.arrays\n",
    "    n_y, n_z = model.sizes\n",
    "    σ_star = np.zeros((len(y_vals), n_z), dtype=int32)\n",
    "    for i_z in range(n_z):\n",
    "        for y in y_vals:\n",
    "            max_val = -np.inf\n",
    "            for a in range(K - y + 1):\n",
    "                current_val = B(y, i_z, a, v, model)\n",
    "                if current_val > max_val:\n",
    "                    maximizer = a\n",
    "                    max_val = current_val\n",
    "            σ_star[y, i_z] = maximizer\n",
    "    return σ_star"
   ]
  },
  {
   "cell_type": "code",
   "execution_count": 7,
   "id": "a67c7ddd",
   "metadata": {
    "execution": {
     "iopub.execute_input": "2023-08-18T05:02:21.359548Z",
     "iopub.status.busy": "2023-08-18T05:02:21.359365Z",
     "iopub.status.idle": "2023-08-18T05:02:21.363638Z",
     "shell.execute_reply": "2023-08-18T05:02:21.363327Z"
    }
   },
   "outputs": [],
   "source": [
    "@njit\n",
    "def get_value(σ, model):\n",
    "    \"Get the value v_σ of policy σ.\"\n",
    "    K, c, κ, p = model.params\n",
    "    r, R, y_vals, z_vals, Q = model.arrays\n",
    "    n_y, n_z = model.sizes\n",
    "    n = n_z * n_y\n",
    "    # Build L_σ and r_σ as multi-index arrays\n",
    "    L_σ = np.zeros((n_y, n_z, n_y, n_z))\n",
    "    r_σ = np.zeros((n_y, n_z))\n",
    "    for y in y_vals:\n",
    "        for i_z in range(n_z):\n",
    "            a = σ[y, i_z]\n",
    "            β = z_vals[i_z]\n",
    "            r_σ[y, i_z] = r[y, a]\n",
    "            for yp in y_vals:\n",
    "                for i_zp in range(n_z):\n",
    "                    L_σ[y, i_z, yp, i_zp] = β * R[y, a, yp] * Q[i_z, i_zp]\n",
    "    # Reshape for matrix algebra\n",
    "    L_σ = np.reshape(L_σ, (n, n))\n",
    "    r_σ = np.reshape(r_σ, n)\n",
    "    # Apply matrix operations --- solve for the value of σ \n",
    "    I = np.identity(n)\n",
    "    v_σ = np.linalg.solve(I - L_σ,  r_σ)\n",
    "    # Return as multi-index array\n",
    "    return np.reshape(v_σ, (n_y, n_z))"
   ]
  },
  {
   "cell_type": "markdown",
   "id": "387bb513",
   "metadata": {},
   "source": [
    "# Custom solvers "
   ]
  },
  {
   "cell_type": "code",
   "execution_count": 8,
   "id": "b2c1ce72",
   "metadata": {
    "execution": {
     "iopub.execute_input": "2023-08-18T05:02:21.365200Z",
     "iopub.status.busy": "2023-08-18T05:02:21.365051Z",
     "iopub.status.idle": "2023-08-18T05:02:21.369331Z",
     "shell.execute_reply": "2023-08-18T05:02:21.368932Z"
    }
   },
   "outputs": [],
   "source": [
    "def solve_model_numba(model, algorithm=\"OPI\", **kwargs):\n",
    "    \"\"\"\n",
    "    General purpose solver. \n",
    "\n",
    "    algorithm : OPI, VFI or HPI\n",
    "\n",
    "    \"\"\"\n",
    "\n",
    "    # Set up\n",
    "    n_y, n_z = model.sizes\n",
    "    v_init = np.zeros((n_y, n_z))\n",
    "\n",
    "    # Solve\n",
    "    print(f\"Solving model using {algorithm}.\")\n",
    "    match algorithm:\n",
    "        case \"OPI\":\n",
    "            solver = optimistic_policy_iteration\n",
    "            args = (v_init, \n",
    "                lambda v, σ: T_σ(v, σ, model), \n",
    "                lambda v: get_greedy(v, model))\n",
    "        case \"HPI\":\n",
    "            solver = howard_policy_iteration\n",
    "            args = (v_init, \n",
    "                lambda σ: get_value(σ, model), \n",
    "                lambda v: get_greedy(v, model))\n",
    "        case \"VFI\":\n",
    "            solver = value_function_iteration\n",
    "            args = (v_init, \n",
    "                lambda v: T(v, model), \n",
    "                lambda v: get_greedy(v, model))\n",
    "        case _:\n",
    "            raise ValueError(\"Algorithm must be in {OPI, VFI, HPI}\")\n",
    "\n",
    "    qe.tic()\n",
    "    v_star, σ_star = solver(*args, **kwargs)\n",
    "    run_time = qe.toc()\n",
    "    print(f\"Solved model using {algorithm} in {run_time:.5f} seconds.\")\n",
    "\n",
    "    return v_star, σ_star"
   ]
  },
  {
   "cell_type": "code",
   "execution_count": 9,
   "id": "2d5f716e",
   "metadata": {
    "execution": {
     "iopub.execute_input": "2023-08-18T05:02:21.370710Z",
     "iopub.status.busy": "2023-08-18T05:02:21.370588Z",
     "iopub.status.idle": "2023-08-18T05:02:21.374266Z",
     "shell.execute_reply": "2023-08-18T05:02:21.373860Z"
    }
   },
   "outputs": [],
   "source": [
    "def test_timing_numba(model,\n",
    "                      m_vals=range(1, 100, 20),\n",
    "                      figname=\"numba_timing.pdf\",\n",
    "                      savefig=False):\n",
    "    \"\"\"\n",
    "    Plot relative timing of different algorithms.\n",
    "\n",
    "    \"\"\"\n",
    "\n",
    "    qe.tic()\n",
    "    _, σ_pi = solve_model_numba(model, algorithm=\"HPI\")\n",
    "    hpi_time = qe.toc()\n",
    "\n",
    "    qe.tic()\n",
    "    _, σ_vfi = solve_model_numba(model, algorithm=\"VFI\")\n",
    "    vfi_time = qe.toc()\n",
    "\n",
    "    error = np.max(np.abs(σ_vfi - σ_pi))\n",
    "    if error:\n",
    "        print(\"Warning: VFI policy deviated with max error {error}.\")\n",
    "\n",
    "    opi_times = []\n",
    "    for m in m_vals:\n",
    "        qe.tic()\n",
    "        _, σ_opi = solve_model_numba(model, algorithm=\"OPI\", m=m)\n",
    "        opi_times.append(qe.toc())\n",
    "\n",
    "        error = np.max(np.abs(σ_opi - σ_pi))\n",
    "        if error:\n",
    "            print(\"Warning: OPI policy deviated with max error {error}.\")\n",
    "\n",
    "    plot_timing(hpi_time, \n",
    "                vfi_time,\n",
    "                opi_times,\n",
    "                m_vals, \n",
    "                figname=figname,\n",
    "                savefig=False)\n",
    "\n",
    "    return hpi_time, vfi_time, opi_times"
   ]
  },
  {
   "cell_type": "markdown",
   "id": "1605e4bd",
   "metadata": {},
   "source": [
    "# Simulations and plots "
   ]
  },
  {
   "cell_type": "code",
   "execution_count": 10,
   "id": "48716ccb",
   "metadata": {
    "execution": {
     "iopub.execute_input": "2023-08-18T05:02:21.375689Z",
     "iopub.status.busy": "2023-08-18T05:02:21.375572Z",
     "iopub.status.idle": "2023-08-18T05:02:21.823161Z",
     "shell.execute_reply": "2023-08-18T05:02:21.822595Z"
    }
   },
   "outputs": [
    {
     "name": "stdout",
     "output_type": "stream",
     "text": [
      "Building model with ρ(L) = 0.9751716609507842\n"
     ]
    }
   ],
   "source": [
    "model = create_sdd_inventory_model()"
   ]
  },
  {
   "cell_type": "markdown",
   "id": "530709b7",
   "metadata": {},
   "source": [
    "## Solve by VFI"
   ]
  },
  {
   "cell_type": "code",
   "execution_count": 11,
   "id": "20e684e8",
   "metadata": {
    "execution": {
     "iopub.execute_input": "2023-08-18T05:02:21.825110Z",
     "iopub.status.busy": "2023-08-18T05:02:21.824918Z",
     "iopub.status.idle": "2023-08-18T05:05:13.768652Z",
     "shell.execute_reply": "2023-08-18T05:05:13.768202Z"
    }
   },
   "outputs": [
    {
     "name": "stdout",
     "output_type": "stream",
     "text": [
      "Solving model using VFI.\n"
     ]
    },
    {
     "name": "stdout",
     "output_type": "stream",
     "text": [
      "Completed iteration 25 with error 0.5612918187425802.\n"
     ]
    },
    {
     "name": "stdout",
     "output_type": "stream",
     "text": [
      "Completed iteration 50 with error 0.37760311527087964.\n"
     ]
    },
    {
     "name": "stdout",
     "output_type": "stream",
     "text": [
      "Completed iteration 75 with error 0.22781271574230288.\n"
     ]
    },
    {
     "name": "stdout",
     "output_type": "stream",
     "text": [
      "Completed iteration 100 with error 0.12966912474841052.\n"
     ]
    },
    {
     "name": "stdout",
     "output_type": "stream",
     "text": [
      "Completed iteration 125 with error 0.06841133244553532.\n"
     ]
    },
    {
     "name": "stdout",
     "output_type": "stream",
     "text": [
      "Completed iteration 150 with error 0.03108826968598777.\n"
     ]
    },
    {
     "name": "stdout",
     "output_type": "stream",
     "text": [
      "Completed iteration 175 with error 0.014717604780919658.\n"
     ]
    },
    {
     "name": "stdout",
     "output_type": "stream",
     "text": [
      "Completed iteration 200 with error 0.007728671529960707.\n"
     ]
    },
    {
     "name": "stdout",
     "output_type": "stream",
     "text": [
      "Completed iteration 225 with error 0.0041302272069572155.\n"
     ]
    },
    {
     "name": "stdout",
     "output_type": "stream",
     "text": [
      "Completed iteration 250 with error 0.002206459813073991.\n"
     ]
    },
    {
     "name": "stdout",
     "output_type": "stream",
     "text": [
      "Completed iteration 275 with error 0.0011779116780843424.\n"
     ]
    },
    {
     "name": "stdout",
     "output_type": "stream",
     "text": [
      "Completed iteration 300 with error 0.0006285733275888106.\n"
     ]
    },
    {
     "name": "stdout",
     "output_type": "stream",
     "text": [
      "Completed iteration 325 with error 0.0003353535262320406.\n"
     ]
    },
    {
     "name": "stdout",
     "output_type": "stream",
     "text": [
      "Completed iteration 350 with error 0.00017889424245964847.\n"
     ]
    },
    {
     "name": "stdout",
     "output_type": "stream",
     "text": [
      "Completed iteration 375 with error 9.542456400879473e-05.\n"
     ]
    },
    {
     "name": "stdout",
     "output_type": "stream",
     "text": [
      "Completed iteration 400 with error 5.089879924469187e-05.\n"
     ]
    },
    {
     "name": "stdout",
     "output_type": "stream",
     "text": [
      "Completed iteration 425 with error 2.7148494247342114e-05.\n"
     ]
    },
    {
     "name": "stdout",
     "output_type": "stream",
     "text": [
      "Completed iteration 450 with error 1.448034407758314e-05.\n"
     ]
    },
    {
     "name": "stdout",
     "output_type": "stream",
     "text": [
      "Completed iteration 475 with error 7.723411918902912e-06.\n"
     ]
    },
    {
     "name": "stdout",
     "output_type": "stream",
     "text": [
      "Completed iteration 500 with error 4.119437804206427e-06.\n"
     ]
    },
    {
     "name": "stdout",
     "output_type": "stream",
     "text": [
      "Completed iteration 525 with error 2.197181004248705e-06.\n"
     ]
    },
    {
     "name": "stdout",
     "output_type": "stream",
     "text": [
      "Completed iteration 550 with error 1.1719072361415783e-06.\n"
     ]
    },
    {
     "name": "stdout",
     "output_type": "stream",
     "text": [
      "Terminated successfully in 558 iterations.\n"
     ]
    },
    {
     "name": "stdout",
     "output_type": "stream",
     "text": [
      "TOC: Elapsed: 0:02:51.94\n",
      "Solved model using VFI in 171.94109 seconds.\n"
     ]
    }
   ],
   "source": [
    "v_star, σ_star = solve_model_numba(model, algorithm=\"VFI\")"
   ]
  },
  {
   "cell_type": "markdown",
   "id": "584eca19",
   "metadata": {},
   "source": [
    "## Solve by HPI"
   ]
  },
  {
   "cell_type": "code",
   "execution_count": 12,
   "id": "ab0de013",
   "metadata": {
    "execution": {
     "iopub.execute_input": "2023-08-18T05:05:13.770412Z",
     "iopub.status.busy": "2023-08-18T05:05:13.770257Z",
     "iopub.status.idle": "2023-08-18T05:05:19.386223Z",
     "shell.execute_reply": "2023-08-18T05:05:19.385878Z"
    }
   },
   "outputs": [
    {
     "name": "stdout",
     "output_type": "stream",
     "text": [
      "Solving model using HPI.\n"
     ]
    },
    {
     "name": "stdout",
     "output_type": "stream",
     "text": [
      "Concluded loop 1 with error 66.\n",
      "Concluded loop 2 with error 60.\n"
     ]
    },
    {
     "name": "stdout",
     "output_type": "stream",
     "text": [
      "Concluded loop 3 with error 32.\n"
     ]
    },
    {
     "name": "stdout",
     "output_type": "stream",
     "text": [
      "Concluded loop 4 with error 32.\n",
      "Concluded loop 5 with error 24.\n"
     ]
    },
    {
     "name": "stdout",
     "output_type": "stream",
     "text": [
      "Concluded loop 6 with error 24.\n",
      "Concluded loop 7 with error 24.\n"
     ]
    },
    {
     "name": "stdout",
     "output_type": "stream",
     "text": [
      "Concluded loop 8 with error 0.\n",
      "TOC: Elapsed: 0:00:5.61\n",
      "Solved model using HPI in 5.61342 seconds.\n"
     ]
    }
   ],
   "source": [
    "v_star, σ_star = solve_model_numba(model, algorithm=\"HPI\")"
   ]
  },
  {
   "cell_type": "markdown",
   "id": "ac93b3ee",
   "metadata": {},
   "source": [
    "## Solve by OPI"
   ]
  },
  {
   "cell_type": "code",
   "execution_count": 13,
   "id": "cc384f2b",
   "metadata": {
    "execution": {
     "iopub.execute_input": "2023-08-18T05:05:19.387829Z",
     "iopub.status.busy": "2023-08-18T05:05:19.387656Z",
     "iopub.status.idle": "2023-08-18T05:05:30.738929Z",
     "shell.execute_reply": "2023-08-18T05:05:30.738338Z"
    },
    "lines_to_next_cell": 2
   },
   "outputs": [
    {
     "name": "stdout",
     "output_type": "stream",
     "text": [
      "Solving model using OPI.\n"
     ]
    },
    {
     "name": "stdout",
     "output_type": "stream",
     "text": [
      "Completed iteration 10 with error 0.00398914428492958.\n"
     ]
    },
    {
     "name": "stdout",
     "output_type": "stream",
     "text": [
      "TOC: Elapsed: 0:00:11.34\n",
      "Solved model using OPI in 11.34851 seconds.\n"
     ]
    }
   ],
   "source": [
    "v_star, σ_star = solve_model_numba(model, algorithm=\"OPI\")"
   ]
  },
  {
   "cell_type": "code",
   "execution_count": 14,
   "id": "0fee6b0b",
   "metadata": {
    "execution": {
     "iopub.execute_input": "2023-08-18T05:05:30.740652Z",
     "iopub.status.busy": "2023-08-18T05:05:30.740460Z",
     "iopub.status.idle": "2023-08-18T05:05:31.144851Z",
     "shell.execute_reply": "2023-08-18T05:05:31.144361Z"
    }
   },
   "outputs": [
    {
     "data": {
      "image/png": "[encoded data removed]",
      "text/plain": [
       "<Figure size 900x550 with 2 Axes>"
      ]
     },
     "metadata": {},
     "output_type": "display_data"
    }
   ],
   "source": [
    "plot_ts(model, σ_star, figname=\"numba_ts.pdf\", savefig=False)"
   ]
  },
  {
   "cell_type": "markdown",
   "id": "f426299d",
   "metadata": {},
   "source": [
    "## Test timing"
   ]
  },
  {
   "cell_type": "code",
   "execution_count": 15,
   "id": "69f798cb",
   "metadata": {
    "execution": {
     "iopub.execute_input": "2023-08-18T05:05:31.146421Z",
     "iopub.status.busy": "2023-08-18T05:05:31.146267Z",
     "iopub.status.idle": "2023-08-18T05:12:04.717870Z",
     "shell.execute_reply": "2023-08-18T05:12:04.717488Z"
    },
    "lines_to_next_cell": 2
   },
   "outputs": [
    {
     "name": "stdout",
     "output_type": "stream",
     "text": [
      "Solving model using HPI.\n",
      "Concluded loop 1 with error 66.\n"
     ]
    },
    {
     "name": "stdout",
     "output_type": "stream",
     "text": [
      "Concluded loop 2 with error 60.\n",
      "Concluded loop 3 with error 32.\n",
      "Concluded loop 4 with error 32.\n",
      "Concluded loop 5 with error 24.\n"
     ]
    },
    {
     "name": "stdout",
     "output_type": "stream",
     "text": [
      "Concluded loop 6 with error 24.\n"
     ]
    },
    {
     "name": "stdout",
     "output_type": "stream",
     "text": [
      "Concluded loop 7 with error 24.\n",
      "Concluded loop 8 with error 0.\n",
      "TOC: Elapsed: 0:00:3.98\n",
      "Solved model using HPI in 3.98552 seconds.\n",
      "TOC: Elapsed: 0:00:3.98\n",
      "Solving model using VFI.\n"
     ]
    },
    {
     "name": "stdout",
     "output_type": "stream",
     "text": [
      "Completed iteration 25 with error 0.5612918187425802.\n"
     ]
    },
    {
     "name": "stdout",
     "output_type": "stream",
     "text": [
      "Completed iteration 50 with error 0.37760311527087964.\n"
     ]
    },
    {
     "name": "stdout",
     "output_type": "stream",
     "text": [
      "Completed iteration 75 with error 0.22781271574230288.\n"
     ]
    },
    {
     "name": "stdout",
     "output_type": "stream",
     "text": [
      "Completed iteration 100 with error 0.12966912474841052.\n"
     ]
    },
    {
     "name": "stdout",
     "output_type": "stream",
     "text": [
      "Completed iteration 125 with error 0.06841133244553532.\n"
     ]
    },
    {
     "name": "stdout",
     "output_type": "stream",
     "text": [
      "Completed iteration 150 with error 0.03108826968598777.\n"
     ]
    },
    {
     "name": "stdout",
     "output_type": "stream",
     "text": [
      "Completed iteration 175 with error 0.014717604780919658.\n"
     ]
    },
    {
     "name": "stdout",
     "output_type": "stream",
     "text": [
      "Completed iteration 200 with error 0.007728671529960707.\n"
     ]
    },
    {
     "name": "stdout",
     "output_type": "stream",
     "text": [
      "Completed iteration 225 with error 0.0041302272069572155.\n"
     ]
    },
    {
     "name": "stdout",
     "output_type": "stream",
     "text": [
      "Completed iteration 250 with error 0.002206459813073991.\n"
     ]
    },
    {
     "name": "stdout",
     "output_type": "stream",
     "text": [
      "Completed iteration 275 with error 0.0011779116780843424.\n"
     ]
    },
    {
     "name": "stdout",
     "output_type": "stream",
     "text": [
      "Completed iteration 300 with error 0.0006285733275888106.\n"
     ]
    },
    {
     "name": "stdout",
     "output_type": "stream",
     "text": [
      "Completed iteration 325 with error 0.0003353535262320406.\n"
     ]
    },
    {
     "name": "stdout",
     "output_type": "stream",
     "text": [
      "Completed iteration 350 with error 0.00017889424245964847.\n"
     ]
    },
    {
     "name": "stdout",
     "output_type": "stream",
     "text": [
      "Completed iteration 375 with error 9.542456400879473e-05.\n"
     ]
    },
    {
     "name": "stdout",
     "output_type": "stream",
     "text": [
      "Completed iteration 400 with error 5.089879924469187e-05.\n"
     ]
    },
    {
     "name": "stdout",
     "output_type": "stream",
     "text": [
      "Completed iteration 425 with error 2.7148494247342114e-05.\n"
     ]
    },
    {
     "name": "stdout",
     "output_type": "stream",
     "text": [
      "Completed iteration 450 with error 1.448034407758314e-05.\n"
     ]
    },
    {
     "name": "stdout",
     "output_type": "stream",
     "text": [
      "Completed iteration 475 with error 7.723411918902912e-06.\n"
     ]
    },
    {
     "name": "stdout",
     "output_type": "stream",
     "text": [
      "Completed iteration 500 with error 4.119437804206427e-06.\n"
     ]
    },
    {
     "name": "stdout",
     "output_type": "stream",
     "text": [
      "Completed iteration 525 with error 2.197181004248705e-06.\n"
     ]
    },
    {
     "name": "stdout",
     "output_type": "stream",
     "text": [
      "Completed iteration 550 with error 1.1719072361415783e-06.\n"
     ]
    },
    {
     "name": "stdout",
     "output_type": "stream",
     "text": [
      "Terminated successfully in 558 iterations.\n",
      "TOC: Elapsed: 0:02:51.10\n",
      "Solved model using VFI in 171.10542 seconds.\n",
      "TOC: Elapsed: 0:02:51.10\n",
      "Solving model using OPI.\n"
     ]
    },
    {
     "name": "stdout",
     "output_type": "stream",
     "text": [
      "Completed iteration 10 with error 0.6480358762326093.\n"
     ]
    },
    {
     "name": "stdout",
     "output_type": "stream",
     "text": [
      "Completed iteration 20 with error 0.5949305169605843.\n"
     ]
    },
    {
     "name": "stdout",
     "output_type": "stream",
     "text": [
      "Completed iteration 30 with error 0.5251459484602243.\n"
     ]
    },
    {
     "name": "stdout",
     "output_type": "stream",
     "text": [
      "Completed iteration 40 with error 0.4502411260545287.\n"
     ]
    },
    {
     "name": "stdout",
     "output_type": "stream",
     "text": [
      "Completed iteration 50 with error 0.37760311527087964.\n"
     ]
    },
    {
     "name": "stdout",
     "output_type": "stream",
     "text": [
      "Completed iteration 60 with error 0.311392522632449.\n"
     ]
    },
    {
     "name": "stdout",
     "output_type": "stream",
     "text": [
      "Completed iteration 70 with error 0.25348563920215383.\n"
     ]
    },
    {
     "name": "stdout",
     "output_type": "stream",
     "text": [
      "Completed iteration 80 with error 0.20428999885411514.\n"
     ]
    },
    {
     "name": "stdout",
     "output_type": "stream",
     "text": [
      "Completed iteration 90 with error 0.1633451023325918.\n"
     ]
    },
    {
     "name": "stdout",
     "output_type": "stream",
     "text": [
      "Completed iteration 100 with error 0.12966912474841052.\n"
     ]
    },
    {
     "name": "stdout",
     "output_type": "stream",
     "text": [
      "Completed iteration 110 with error 0.10191243757392243.\n"
     ]
    },
    {
     "name": "stdout",
     "output_type": "stream",
     "text": [
      "Completed iteration 120 with error 0.07865530805723608.\n"
     ]
    },
    {
     "name": "stdout",
     "output_type": "stream",
     "text": [
      "Completed iteration 130 with error 0.05904856720101037.\n"
     ]
    },
    {
     "name": "stdout",
     "output_type": "stream",
     "text": [
      "Completed iteration 140 with error 0.04311205522372319.\n"
     ]
    },
    {
     "name": "stdout",
     "output_type": "stream",
     "text": [
      "Completed iteration 150 with error 0.03108826968598777.\n"
     ]
    },
    {
     "name": "stdout",
     "output_type": "stream",
     "text": [
      "Completed iteration 160 with error 0.022647420777808236.\n"
     ]
    },
    {
     "name": "stdout",
     "output_type": "stream",
     "text": [
      "Completed iteration 170 with error 0.01689273636190336.\n"
     ]
    },
    {
     "name": "stdout",
     "output_type": "stream",
     "text": [
      "Completed iteration 180 with error 0.01287975724367385.\n"
     ]
    },
    {
     "name": "stdout",
     "output_type": "stream",
     "text": [
      "Completed iteration 190 with error 0.009949277899593767.\n"
     ]
    },
    {
     "name": "stdout",
     "output_type": "stream",
     "text": [
      "Completed iteration 200 with error 0.007728671529960707.\n"
     ]
    },
    {
     "name": "stdout",
     "output_type": "stream",
     "text": [
      "Completed iteration 210 with error 0.0060141729953926415.\n"
     ]
    },
    {
     "name": "stdout",
     "output_type": "stream",
     "text": [
      "Completed iteration 220 with error 0.004681465137338137.\n"
     ]
    },
    {
     "name": "stdout",
     "output_type": "stream",
     "text": [
      "Completed iteration 230 with error 0.003643763932657862.\n"
     ]
    },
    {
     "name": "stdout",
     "output_type": "stream",
     "text": [
      "Completed iteration 240 with error 0.0028356519919228163.\n"
     ]
    },
    {
     "name": "stdout",
     "output_type": "stream",
     "text": [
      "Completed iteration 250 with error 0.002206459813073991.\n"
     ]
    },
    {
     "name": "stdout",
     "output_type": "stream",
     "text": [
      "Completed iteration 260 with error 0.0017166848875262986.\n"
     ]
    },
    {
     "name": "stdout",
     "output_type": "stream",
     "text": [
      "Completed iteration 270 with error 0.0013355082948720565.\n"
     ]
    },
    {
     "name": "stdout",
     "output_type": "stream",
     "text": [
      "Completed iteration 280 with error 0.001038896093632502.\n"
     ]
    },
    {
     "name": "stdout",
     "output_type": "stream",
     "text": [
      "Completed iteration 290 with error 0.0008081157057162613.\n"
     ]
    },
    {
     "name": "stdout",
     "output_type": "stream",
     "text": [
      "Completed iteration 300 with error 0.0006285733275888106.\n"
     ]
    },
    {
     "name": "stdout",
     "output_type": "stream",
     "text": [
      "Completed iteration 310 with error 0.0004889036860262763.\n"
     ]
    },
    {
     "name": "stdout",
     "output_type": "stream",
     "text": [
      "Completed iteration 320 with error 0.0003802583785912361.\n"
     ]
    },
    {
     "name": "stdout",
     "output_type": "stream",
     "text": [
      "Completed iteration 330 with error 0.0002957500884122055.\n"
     ]
    },
    {
     "name": "stdout",
     "output_type": "stream",
     "text": [
      "Completed iteration 340 with error 0.00023001891723595236.\n"
     ]
    },
    {
     "name": "stdout",
     "output_type": "stream",
     "text": [
      "Completed iteration 350 with error 0.00017889424245964847.\n"
     ]
    },
    {
     "name": "stdout",
     "output_type": "stream",
     "text": [
      "Completed iteration 360 with error 0.0001391312026015612.\n"
     ]
    },
    {
     "name": "stdout",
     "output_type": "stream",
     "text": [
      "Completed iteration 370 with error 0.00010820542954803614.\n"
     ]
    },
    {
     "name": "stdout",
     "output_type": "stream",
     "text": [
      "Completed iteration 380 with error 8.415320764498802e-05.\n"
     ]
    },
    {
     "name": "stdout",
     "output_type": "stream",
     "text": [
      "Completed iteration 390 with error 6.544703997946044e-05.\n"
     ]
    },
    {
     "name": "stdout",
     "output_type": "stream",
     "text": [
      "Completed iteration 400 with error 5.089879924469187e-05.\n"
     ]
    },
    {
     "name": "stdout",
     "output_type": "stream",
     "text": [
      "Completed iteration 410 with error 3.958436084161576e-05.\n"
     ]
    },
    {
     "name": "stdout",
     "output_type": "stream",
     "text": [
      "Completed iteration 420 with error 3.0784961055019266e-05.\n"
     ]
    },
    {
     "name": "stdout",
     "output_type": "stream",
     "text": [
      "Completed iteration 430 with error 2.3941573402908034e-05.\n"
     ]
    },
    {
     "name": "stdout",
     "output_type": "stream",
     "text": [
      "Completed iteration 440 with error 1.861941635183939e-05.\n"
     ]
    },
    {
     "name": "stdout",
     "output_type": "stream",
     "text": [
      "Completed iteration 450 with error 1.448034407758314e-05.\n"
     ]
    },
    {
     "name": "stdout",
     "output_type": "stream",
     "text": [
      "Completed iteration 460 with error 1.1261370822523986e-05.\n"
     ]
    },
    {
     "name": "stdout",
     "output_type": "stream",
     "text": [
      "Completed iteration 470 with error 8.757966703853981e-06.\n"
     ]
    },
    {
     "name": "stdout",
     "output_type": "stream",
     "text": [
      "Completed iteration 480 with error 6.81106531885689e-06.\n"
     ]
    },
    {
     "name": "stdout",
     "output_type": "stream",
     "text": [
      "Completed iteration 490 with error 5.296958661915596e-06.\n"
     ]
    },
    {
     "name": "stdout",
     "output_type": "stream",
     "text": [
      "Completed iteration 500 with error 4.119437804206427e-06.\n"
     ]
    },
    {
     "name": "stdout",
     "output_type": "stream",
     "text": [
      "Completed iteration 510 with error 3.2036803787605095e-06.\n"
     ]
    },
    {
     "name": "stdout",
     "output_type": "stream",
     "text": [
      "Completed iteration 520 with error 2.491496637446744e-06.\n"
     ]
    },
    {
     "name": "stdout",
     "output_type": "stream",
     "text": [
      "Completed iteration 530 with error 1.9376322057951256e-06.\n"
     ]
    },
    {
     "name": "stdout",
     "output_type": "stream",
     "text": [
      "Completed iteration 540 with error 1.506892658653669e-06.\n"
     ]
    },
    {
     "name": "stdout",
     "output_type": "stream",
     "text": [
      "Completed iteration 550 with error 1.1719072361415783e-06.\n"
     ]
    },
    {
     "name": "stdout",
     "output_type": "stream",
     "text": [
      "TOC: Elapsed: 0:02:50.19\n",
      "Solved model using OPI in 170.19201 seconds.\n",
      "TOC: Elapsed: 0:02:50.19\n",
      "Solving model using OPI.\n"
     ]
    },
    {
     "name": "stdout",
     "output_type": "stream",
     "text": [
      "Completed iteration 10 with error 0.23575181290821234.\n"
     ]
    },
    {
     "name": "stdout",
     "output_type": "stream",
     "text": [
      "Completed iteration 20 with error 0.0012292555287132245.\n"
     ]
    },
    {
     "name": "stdout",
     "output_type": "stream",
     "text": [
      "Completed iteration 30 with error 6.262373972276691e-06.\n"
     ]
    },
    {
     "name": "stdout",
     "output_type": "stream",
     "text": [
      "TOC: Elapsed: 0:00:14.90\n",
      "Solved model using OPI in 14.90267 seconds.\n",
      "TOC: Elapsed: 0:00:14.90\n",
      "Solving model using OPI.\n"
     ]
    },
    {
     "name": "stdout",
     "output_type": "stream",
     "text": [
      "Completed iteration 10 with error 0.02117210695655558.\n"
     ]
    },
    {
     "name": "stdout",
     "output_type": "stream",
     "text": [
      "Completed iteration 20 with error 6.989141212443428e-07.\n",
      "TOC: Elapsed: 0:00:11.37\n",
      "Solved model using OPI in 11.37527 seconds.\n",
      "TOC: Elapsed: 0:00:11.37\n",
      "Solving model using OPI.\n"
     ]
    },
    {
     "name": "stdout",
     "output_type": "stream",
     "text": [
      "Completed iteration 10 with error 0.0029193267479570295.\n"
     ]
    },
    {
     "name": "stdout",
     "output_type": "stream",
     "text": [
      "TOC: Elapsed: 0:00:11.14\n",
      "Solved model using OPI in 11.14543 seconds.\n",
      "TOC: Elapsed: 0:00:11.14\n",
      "Solving model using OPI.\n"
     ]
    },
    {
     "name": "stdout",
     "output_type": "stream",
     "text": [
      "Completed iteration 10 with error 0.0003544690333612266.\n"
     ]
    },
    {
     "name": "stdout",
     "output_type": "stream",
     "text": [
      "TOC: Elapsed: 0:00:10.74\n",
      "Solved model using OPI in 10.74998 seconds.\n",
      "TOC: Elapsed: 0:00:10.75\n"
     ]
    },
    {
     "data": {
      "image/png": "[encoded data removed]",
      "text/plain": [
       "<Figure size 900x520 with 1 Axes>"
      ]
     },
     "metadata": {},
     "output_type": "display_data"
    }
   ],
   "source": [
    "hpi_time, vfi_time, opi_times = test_timing_numba(model)"
   ]
  }
 ],
 "metadata": {
  "jupytext": {
   "cell_metadata_filter": "-all",
   "main_language": "python",
   "notebook_metadata_filter": "-all"
  },
  "kernelspec": {
   "display_name": "Python 3 (ipykernel)",
   "language": "python",
   "name": "python3"
  },
  "language_info": {
   "codemirror_mode": {
    "name": "ipython",
    "version": 3
   },
   "file_extension": ".py",
   "mimetype": "text/x-python",
   "name": "python",
   "nbconvert_exporter": "python",
   "pygments_lexer": "ipython3",
   "version": "3.10.9"
  }
 },
 "nbformat": 4,
 "nbformat_minor": 5
}
