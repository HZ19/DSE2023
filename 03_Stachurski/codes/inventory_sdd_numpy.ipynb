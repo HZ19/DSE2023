{
 "cells": [
  {
   "cell_type": "markdown",
   "id": "52395e3b",
   "metadata": {},
   "source": [
    "# Solve the inventory management problem using Python/Numpy\n",
    "\n",
    "John Stachurski\n",
    "Sun 13 Aug 2023 04:25:41"
   ]
  },
  {
   "cell_type": "code",
   "execution_count": 1,
   "id": "ebf9a5b0",
   "metadata": {
    "execution": {
     "iopub.execute_input": "2023-08-18T04:25:53.226788Z",
     "iopub.status.busy": "2023-08-18T04:25:53.226145Z",
     "iopub.status.idle": "2023-08-18T04:25:54.045307Z",
     "shell.execute_reply": "2023-08-18T04:25:54.044831Z"
    },
    "lines_to_next_cell": 1
   },
   "outputs": [],
   "source": [
    "from model import *\n",
    "from dp_algos import *\n",
    "from plot_code import *"
   ]
  },
  {
   "cell_type": "markdown",
   "id": "ca32adf4",
   "metadata": {},
   "source": [
    "# Operators and functions "
   ]
  },
  {
   "cell_type": "code",
   "execution_count": 2,
   "id": "7bbfcd1d",
   "metadata": {
    "execution": {
     "iopub.execute_input": "2023-08-18T04:25:54.047405Z",
     "iopub.status.busy": "2023-08-18T04:25:54.047193Z",
     "iopub.status.idle": "2023-08-18T04:25:54.051235Z",
     "shell.execute_reply": "2023-08-18T04:25:54.050813Z"
    }
   },
   "outputs": [],
   "source": [
    "def B(v, model):\n",
    "    \"\"\"\n",
    "    B(y, z, a, v) = r(y, a) + β(z) Σ_{y′, z′} v(y′, z′) R(y, a, y′) Q(z, z′)\n",
    "\n",
    "    \"\"\"\n",
    "    K, c, κ, p = model.params\n",
    "    r, R, y_vals, z_vals, Q = model.arrays\n",
    "    n_y, n_z = len(y_vals), len(z_vals)\n",
    "\n",
    "    # broadcasting over    (y,   z,   a)\n",
    "    r = np.reshape(r,      (n_y, 1,   n_y))\n",
    "    β = np.reshape(z_vals, (1,   n_z, 1))\n",
    "\n",
    "    # broadcasting over (y,   z,   a,   yp,   zp)\n",
    "    R = np.reshape(R,   (n_y, 1,   n_y, n_y,  1))\n",
    "    Q = np.reshape(Q,   (1,   n_z, 1,   1,    n_z))\n",
    "    v = np.reshape(v,   (1,   1,   1,   n_y,  n_z))\n",
    "\n",
    "    Ev = np.sum(v * R * Q, axis=(3, 4))\n",
    "    return r + β * Ev"
   ]
  },
  {
   "cell_type": "code",
   "execution_count": 3,
   "id": "519e8774",
   "metadata": {
    "execution": {
     "iopub.execute_input": "2023-08-18T04:25:54.052963Z",
     "iopub.status.busy": "2023-08-18T04:25:54.052621Z",
     "iopub.status.idle": "2023-08-18T04:25:54.055364Z",
     "shell.execute_reply": "2023-08-18T04:25:54.055073Z"
    },
    "lines_to_next_cell": 1
   },
   "outputs": [],
   "source": [
    "def compute_r_σ(σ, model):\n",
    "    r, R, y_vals, z_vals, Q = model.arrays\n",
    "    n_y, n_z = len(y_vals), len(z_vals)\n",
    "    z_idx = range(n_z)\n",
    "    # Create r_σ with indices (y,   z)\n",
    "    y = np.reshape(y_vals,    (n_y, 1))\n",
    "    z = np.reshape(z_idx,     (1,   n_z))\n",
    "    r_σ = r[y, σ[y, z]]\n",
    "    return r_σ"
   ]
  },
  {
   "cell_type": "code",
   "execution_count": 4,
   "id": "750be3e1",
   "metadata": {
    "execution": {
     "iopub.execute_input": "2023-08-18T04:25:54.057138Z",
     "iopub.status.busy": "2023-08-18T04:25:54.056767Z",
     "iopub.status.idle": "2023-08-18T04:25:54.059656Z",
     "shell.execute_reply": "2023-08-18T04:25:54.059375Z"
    },
    "lines_to_next_cell": 1
   },
   "outputs": [],
   "source": [
    "def compute_R_σ(σ, model):\n",
    "    r, R, y_vals, z_vals, Q = model.arrays\n",
    "    n_y, n_z = len(y_vals), len(z_vals)\n",
    "    z_idx = range(n_z)\n",
    "    # Create R_σ with indices (y,   z,   yp)\n",
    "    y  = np.reshape(y_vals,   (n_y, 1,   1))\n",
    "    yp = np.reshape(y_vals,   (1,   1,   n_y))\n",
    "    z  = np.reshape(z_idx,    (1,   n_z, 1))\n",
    "    R_σ = R[y, σ[y, z], yp]\n",
    "    return R_σ "
   ]
  },
  {
   "cell_type": "code",
   "execution_count": 5,
   "id": "de4fe338",
   "metadata": {
    "execution": {
     "iopub.execute_input": "2023-08-18T04:25:54.061159Z",
     "iopub.status.busy": "2023-08-18T04:25:54.061009Z",
     "iopub.status.idle": "2023-08-18T04:25:54.063971Z",
     "shell.execute_reply": "2023-08-18T04:25:54.063691Z"
    }
   },
   "outputs": [],
   "source": [
    "def compute_L_σ(σ, model):\n",
    "    r, R, y_vals, z_vals, Q = model.arrays\n",
    "    n_y, n_z = len(y_vals), len(z_vals)\n",
    "    R_σ = compute_R_σ(σ, model)\n",
    "    # Create L_σ with indices (y,   z,   yp,  zp)\n",
    "    β   = np.reshape(z_vals,  (1,   n_z, 1,   1))\n",
    "    R_σ = np.reshape(R_σ,     (n_y, n_z, n_y, 1))\n",
    "    Q   = np.reshape(Q,       (1,   n_z, 1,   n_z))\n",
    "    L_σ = β * R_σ * Q\n",
    "    return L_σ"
   ]
  },
  {
   "cell_type": "code",
   "execution_count": 6,
   "id": "43378343",
   "metadata": {
    "execution": {
     "iopub.execute_input": "2023-08-18T04:25:54.065534Z",
     "iopub.status.busy": "2023-08-18T04:25:54.065383Z",
     "iopub.status.idle": "2023-08-18T04:25:54.067707Z",
     "shell.execute_reply": "2023-08-18T04:25:54.067419Z"
    }
   },
   "outputs": [],
   "source": [
    "def T(v, model):\n",
    "    \"The Bellman operator.\"\n",
    "    return np.max(B(v, model), axis=2)"
   ]
  },
  {
   "cell_type": "code",
   "execution_count": 7,
   "id": "b07c5fc8",
   "metadata": {
    "execution": {
     "iopub.execute_input": "2023-08-18T04:25:54.069392Z",
     "iopub.status.busy": "2023-08-18T04:25:54.069019Z",
     "iopub.status.idle": "2023-08-18T04:25:54.071262Z",
     "shell.execute_reply": "2023-08-18T04:25:54.070979Z"
    }
   },
   "outputs": [],
   "source": [
    "def get_greedy(v, model):\n",
    "    \"Get a v-greedy policy.\"\n",
    "    return np.argmax(B(v, model), axis=2)"
   ]
  },
  {
   "cell_type": "code",
   "execution_count": 8,
   "id": "b098da4a",
   "metadata": {
    "execution": {
     "iopub.execute_input": "2023-08-18T04:25:54.072981Z",
     "iopub.status.busy": "2023-08-18T04:25:54.072628Z",
     "iopub.status.idle": "2023-08-18T04:25:54.075817Z",
     "shell.execute_reply": "2023-08-18T04:25:54.075461Z"
    }
   },
   "outputs": [],
   "source": [
    "def T_σ(v, σ, model):\n",
    "    \"The policy operator.\"\n",
    "    r, R, y_vals, z_vals, Q = model.arrays\n",
    "    n_z, n_y = len(z_vals), len(y_vals)\n",
    "    r_σ = compute_r_σ(σ, model)\n",
    "    L_σ = compute_L_σ(σ, model)\n",
    "    v = np.reshape(v, (1, 1, n_y, n_z))\n",
    "    return r_σ + np.sum(L_σ * v, axis=(2, 3))"
   ]
  },
  {
   "cell_type": "code",
   "execution_count": 9,
   "id": "52b87893",
   "metadata": {
    "execution": {
     "iopub.execute_input": "2023-08-18T04:25:54.077359Z",
     "iopub.status.busy": "2023-08-18T04:25:54.077206Z",
     "iopub.status.idle": "2023-08-18T04:25:54.080386Z",
     "shell.execute_reply": "2023-08-18T04:25:54.079982Z"
    }
   },
   "outputs": [],
   "source": [
    "def get_value(σ, model):\n",
    "    r, R, y_vals, z_vals, Q = model.arrays\n",
    "    n_z, n_y = len(z_vals), len(y_vals)\n",
    "    r_σ = compute_r_σ(σ, model)\n",
    "    L_σ = compute_L_σ(σ, model)\n",
    "    # Reshape for matrix algebra\n",
    "    n = n_z * n_y\n",
    "    L_σ = np.reshape(L_σ, (n, n))\n",
    "    r_σ = np.reshape(r_σ, n)\n",
    "    # Apply matrix operations --- solve for the value of σ \n",
    "    I = np.identity(n)\n",
    "    v_σ = np.linalg.solve(I - L_σ,  r_σ)\n",
    "    # Return as multi-index array\n",
    "    return np.reshape(v_σ, (n_y, n_z))"
   ]
  },
  {
   "cell_type": "markdown",
   "id": "761b7118",
   "metadata": {},
   "source": [
    "# Custom solvers "
   ]
  },
  {
   "cell_type": "code",
   "execution_count": 10,
   "id": "78b8c59d",
   "metadata": {
    "execution": {
     "iopub.execute_input": "2023-08-18T04:25:54.081918Z",
     "iopub.status.busy": "2023-08-18T04:25:54.081766Z",
     "iopub.status.idle": "2023-08-18T04:25:54.085861Z",
     "shell.execute_reply": "2023-08-18T04:25:54.085449Z"
    }
   },
   "outputs": [],
   "source": [
    "def solve_model_numpy(model, algorithm=\"OPI\", **kwargs):\n",
    "    \"\"\"\n",
    "    General purpose solver. \n",
    "\n",
    "    algorithm : OPI, VFI or HPI\n",
    "\n",
    "    \"\"\"\n",
    "\n",
    "    # Set up\n",
    "    n_y, n_z = model.sizes\n",
    "    v_init = np.zeros((n_y, n_z))\n",
    "\n",
    "    # Solve\n",
    "    print(f\"Solving model via using {algorithm}.\")\n",
    "    match algorithm:\n",
    "        case \"OPI\":\n",
    "            solver = optimistic_policy_iteration\n",
    "            args = (v_init, \n",
    "                lambda v, σ: T_σ(v, σ, model), \n",
    "                lambda v: get_greedy(v, model))\n",
    "        case \"HPI\":\n",
    "            solver = howard_policy_iteration\n",
    "            args = (v_init, \n",
    "                lambda σ: get_value(σ, model), \n",
    "                lambda v: get_greedy(v, model))\n",
    "        case \"VFI\":\n",
    "            solver = value_function_iteration\n",
    "            args = (v_init, \n",
    "                lambda v: T(v, model), \n",
    "                lambda v: get_greedy(v, model))\n",
    "        case _:\n",
    "            raise ValueError(\"Algorithm must be in {OPI, VFI, HPI}\")\n",
    "\n",
    "    qe.tic()\n",
    "    v_star, σ_star = solver(*args, **kwargs)\n",
    "    run_time = qe.toc()\n",
    "    print(f\"Solved model using {algorithm} in {run_time:.5f} seconds.\")\n",
    "\n",
    "    return v_star, σ_star"
   ]
  },
  {
   "cell_type": "code",
   "execution_count": 11,
   "id": "55c6c7f9",
   "metadata": {
    "execution": {
     "iopub.execute_input": "2023-08-18T04:25:54.087398Z",
     "iopub.status.busy": "2023-08-18T04:25:54.087279Z",
     "iopub.status.idle": "2023-08-18T04:25:54.091163Z",
     "shell.execute_reply": "2023-08-18T04:25:54.090759Z"
    }
   },
   "outputs": [],
   "source": [
    "def test_timing_numpy(model,\n",
    "                      m_vals=range(1, 100, 20),\n",
    "                      figname=\"numpy_timing.pdf\",\n",
    "                      savefig=False):\n",
    "    \"\"\"\n",
    "    Plot relative timing of different algorithms.\n",
    "\n",
    "    \"\"\"\n",
    "\n",
    "    qe.tic()\n",
    "    _, σ_pi = solve_model_numpy(model, algorithm=\"HPI\")\n",
    "    hpi_time = qe.toc()\n",
    "\n",
    "    qe.tic()\n",
    "    _, σ_vfi = solve_model_numpy(model, algorithm=\"VFI\")\n",
    "    vfi_time = qe.toc()\n",
    "\n",
    "    error = np.max(np.abs(σ_vfi - σ_pi))\n",
    "    if error:\n",
    "        print(\"Warning: VFI policy deviated with max error {error}.\")\n",
    "\n",
    "    opi_times = []\n",
    "    for m in m_vals:\n",
    "        qe.tic()\n",
    "        _, σ_opi = solve_model_numpy(model, algorithm=\"OPI\", m=m)\n",
    "        opi_times.append(qe.toc())\n",
    "\n",
    "        error = np.max(np.abs(σ_opi - σ_pi))\n",
    "        if error:\n",
    "            print(\"Warning: OPI policy deviated with max error {error}.\")\n",
    "\n",
    "    plot_timing(hpi_time, \n",
    "                vfi_time,\n",
    "                opi_times,\n",
    "                m_vals, \n",
    "                figname=figname,\n",
    "                savefig=False)\n",
    "\n",
    "    return hpi_time, vfi_time, opi_times"
   ]
  },
  {
   "cell_type": "markdown",
   "id": "597e8ccf",
   "metadata": {},
   "source": [
    "# Simulations and plots "
   ]
  },
  {
   "cell_type": "code",
   "execution_count": 12,
   "id": "9b4a3d54",
   "metadata": {
    "execution": {
     "iopub.execute_input": "2023-08-18T04:25:54.092704Z",
     "iopub.status.busy": "2023-08-18T04:25:54.092543Z",
     "iopub.status.idle": "2023-08-18T04:25:54.528801Z",
     "shell.execute_reply": "2023-08-18T04:25:54.528227Z"
    }
   },
   "outputs": [
    {
     "name": "stdout",
     "output_type": "stream",
     "text": [
      "Building model with ρ(L) = 0.9751716609507842\n"
     ]
    }
   ],
   "source": [
    "model = create_sdd_inventory_model()"
   ]
  },
  {
   "cell_type": "markdown",
   "id": "3e9b1820",
   "metadata": {},
   "source": [
    "## Solve by VFI"
   ]
  },
  {
   "cell_type": "code",
   "execution_count": 13,
   "id": "a9fa8e20",
   "metadata": {
    "execution": {
     "iopub.execute_input": "2023-08-18T04:25:54.530748Z",
     "iopub.status.busy": "2023-08-18T04:25:54.530545Z",
     "iopub.status.idle": "2023-08-18T04:36:47.161064Z",
     "shell.execute_reply": "2023-08-18T04:36:47.160598Z"
    }
   },
   "outputs": [
    {
     "name": "stdout",
     "output_type": "stream",
     "text": [
      "Solving model via using VFI.\n"
     ]
    },
    {
     "name": "stdout",
     "output_type": "stream",
     "text": [
      "Completed iteration 25 with error 0.561291818742589.\n"
     ]
    },
    {
     "name": "stdout",
     "output_type": "stream",
     "text": [
      "Completed iteration 50 with error 0.37760311527087964.\n"
     ]
    },
    {
     "name": "stdout",
     "output_type": "stream",
     "text": [
      "Completed iteration 75 with error 0.22781271574231.\n"
     ]
    },
    {
     "name": "stdout",
     "output_type": "stream",
     "text": [
      "Completed iteration 100 with error 0.12966912474841052.\n"
     ]
    },
    {
     "name": "stdout",
     "output_type": "stream",
     "text": [
      "Completed iteration 125 with error 0.06841133244554953.\n"
     ]
    },
    {
     "name": "stdout",
     "output_type": "stream",
     "text": [
      "Completed iteration 150 with error 0.03108826968598777.\n"
     ]
    },
    {
     "name": "stdout",
     "output_type": "stream",
     "text": [
      "Completed iteration 175 with error 0.014717604780905447.\n"
     ]
    },
    {
     "name": "stdout",
     "output_type": "stream",
     "text": [
      "Completed iteration 200 with error 0.007728671529960707.\n"
     ]
    },
    {
     "name": "stdout",
     "output_type": "stream",
     "text": [
      "Completed iteration 225 with error 0.0041302272069572155.\n"
     ]
    },
    {
     "name": "stdout",
     "output_type": "stream",
     "text": [
      "Completed iteration 250 with error 0.002206459813073991.\n"
     ]
    },
    {
     "name": "stdout",
     "output_type": "stream",
     "text": [
      "Completed iteration 275 with error 0.0011779116780914478.\n"
     ]
    },
    {
     "name": "stdout",
     "output_type": "stream",
     "text": [
      "Completed iteration 300 with error 0.0006285733275817051.\n"
     ]
    },
    {
     "name": "stdout",
     "output_type": "stream",
     "text": [
      "Completed iteration 325 with error 0.0003353535262320406.\n"
     ]
    },
    {
     "name": "stdout",
     "output_type": "stream",
     "text": [
      "Completed iteration 350 with error 0.00017889424245964847.\n"
     ]
    },
    {
     "name": "stdout",
     "output_type": "stream",
     "text": [
      "Completed iteration 375 with error 9.54245640016893e-05.\n"
     ]
    },
    {
     "name": "stdout",
     "output_type": "stream",
     "text": [
      "Completed iteration 400 with error 5.08987992517973e-05.\n"
     ]
    },
    {
     "name": "stdout",
     "output_type": "stream",
     "text": [
      "Completed iteration 425 with error 2.714849425444754e-05.\n"
     ]
    },
    {
     "name": "stdout",
     "output_type": "stream",
     "text": [
      "Completed iteration 450 with error 1.448034407758314e-05.\n"
     ]
    },
    {
     "name": "stdout",
     "output_type": "stream",
     "text": [
      "Completed iteration 475 with error 7.723411918902912e-06.\n"
     ]
    },
    {
     "name": "stdout",
     "output_type": "stream",
     "text": [
      "Completed iteration 500 with error 4.119437804206427e-06.\n"
     ]
    },
    {
     "name": "stdout",
     "output_type": "stream",
     "text": [
      "Completed iteration 525 with error 2.1971809971432776e-06.\n"
     ]
    },
    {
     "name": "stdout",
     "output_type": "stream",
     "text": [
      "Completed iteration 550 with error 1.1719072361415783e-06.\n"
     ]
    },
    {
     "name": "stdout",
     "output_type": "stream",
     "text": [
      "Terminated successfully in 558 iterations.\n"
     ]
    },
    {
     "name": "stdout",
     "output_type": "stream",
     "text": [
      "TOC: Elapsed: 0:10:52.62\n",
      "Solved model using VFI in 652.62763 seconds.\n"
     ]
    }
   ],
   "source": [
    "v_star, σ_star = solve_model_numpy(model, algorithm=\"VFI\")"
   ]
  },
  {
   "cell_type": "markdown",
   "id": "c021971f",
   "metadata": {},
   "source": [
    "## Solve by HPI"
   ]
  },
  {
   "cell_type": "code",
   "execution_count": 14,
   "id": "6e5140b7",
   "metadata": {
    "execution": {
     "iopub.execute_input": "2023-08-18T04:36:47.162816Z",
     "iopub.status.busy": "2023-08-18T04:36:47.162643Z",
     "iopub.status.idle": "2023-08-18T04:36:58.610732Z",
     "shell.execute_reply": "2023-08-18T04:36:58.610293Z"
    }
   },
   "outputs": [
    {
     "name": "stdout",
     "output_type": "stream",
     "text": [
      "Solving model via using HPI.\n"
     ]
    },
    {
     "name": "stdout",
     "output_type": "stream",
     "text": [
      "Concluded loop 1 with error 66.\n"
     ]
    },
    {
     "name": "stdout",
     "output_type": "stream",
     "text": [
      "Concluded loop 2 with error 60.\n"
     ]
    },
    {
     "name": "stdout",
     "output_type": "stream",
     "text": [
      "Concluded loop 3 with error 32.\n"
     ]
    },
    {
     "name": "stdout",
     "output_type": "stream",
     "text": [
      "Concluded loop 4 with error 32.\n"
     ]
    },
    {
     "name": "stdout",
     "output_type": "stream",
     "text": [
      "Concluded loop 5 with error 24.\n"
     ]
    },
    {
     "name": "stdout",
     "output_type": "stream",
     "text": [
      "Concluded loop 6 with error 24.\n"
     ]
    },
    {
     "name": "stdout",
     "output_type": "stream",
     "text": [
      "Concluded loop 7 with error 24.\n"
     ]
    },
    {
     "name": "stdout",
     "output_type": "stream",
     "text": [
      "Concluded loop 8 with error 0.\n",
      "TOC: Elapsed: 0:00:11.44\n",
      "Solved model using HPI in 11.44554 seconds.\n"
     ]
    }
   ],
   "source": [
    "v_star, σ_star = solve_model_numpy(model, algorithm=\"HPI\")"
   ]
  },
  {
   "cell_type": "markdown",
   "id": "0a5127e3",
   "metadata": {},
   "source": [
    "## Solve by OPI"
   ]
  },
  {
   "cell_type": "code",
   "execution_count": 15,
   "id": "79cc6bb1",
   "metadata": {
    "execution": {
     "iopub.execute_input": "2023-08-18T04:36:58.612362Z",
     "iopub.status.busy": "2023-08-18T04:36:58.612203Z",
     "iopub.status.idle": "2023-08-18T04:37:38.444043Z",
     "shell.execute_reply": "2023-08-18T04:37:38.443579Z"
    },
    "lines_to_next_cell": 2
   },
   "outputs": [
    {
     "name": "stdout",
     "output_type": "stream",
     "text": [
      "Solving model via using OPI.\n"
     ]
    },
    {
     "name": "stdout",
     "output_type": "stream",
     "text": [
      "Completed iteration 10 with error 0.0039891442849224745.\n"
     ]
    },
    {
     "name": "stdout",
     "output_type": "stream",
     "text": [
      "TOC: Elapsed: 0:00:39.82\n",
      "Solved model using OPI in 39.82922 seconds.\n"
     ]
    }
   ],
   "source": [
    "v_star, σ_star = solve_model_numpy(model, algorithm=\"OPI\")"
   ]
  },
  {
   "cell_type": "code",
   "execution_count": 16,
   "id": "d2ae66df",
   "metadata": {
    "execution": {
     "iopub.execute_input": "2023-08-18T04:37:38.445740Z",
     "iopub.status.busy": "2023-08-18T04:37:38.445580Z",
     "iopub.status.idle": "2023-08-18T04:37:38.856897Z",
     "shell.execute_reply": "2023-08-18T04:37:38.856300Z"
    }
   },
   "outputs": [
    {
     "data": {
      "image/png": "[encoded data removed]",
      "text/plain": [
       "<Figure size 900x550 with 2 Axes>"
      ]
     },
     "metadata": {},
     "output_type": "display_data"
    }
   ],
   "source": [
    "plot_ts(model, σ_star, figname=\"numpy_ts.pdf\", savefig=False)"
   ]
  },
  {
   "cell_type": "markdown",
   "id": "4c2025e9",
   "metadata": {},
   "source": [
    "## Test timing"
   ]
  },
  {
   "cell_type": "code",
   "execution_count": 17,
   "id": "e70e4d63",
   "metadata": {
    "execution": {
     "iopub.execute_input": "2023-08-18T04:37:38.858798Z",
     "iopub.status.busy": "2023-08-18T04:37:38.858569Z",
     "iopub.status.idle": "2023-08-18T05:02:19.401257Z",
     "shell.execute_reply": "2023-08-18T05:02:19.400898Z"
    },
    "lines_to_next_cell": 2
   },
   "outputs": [
    {
     "name": "stdout",
     "output_type": "stream",
     "text": [
      "Solving model via using HPI.\n"
     ]
    },
    {
     "name": "stdout",
     "output_type": "stream",
     "text": [
      "Concluded loop 1 with error 66.\n"
     ]
    },
    {
     "name": "stdout",
     "output_type": "stream",
     "text": [
      "Concluded loop 2 with error 60.\n"
     ]
    },
    {
     "name": "stdout",
     "output_type": "stream",
     "text": [
      "Concluded loop 3 with error 32.\n"
     ]
    },
    {
     "name": "stdout",
     "output_type": "stream",
     "text": [
      "Concluded loop 4 with error 32.\n"
     ]
    },
    {
     "name": "stdout",
     "output_type": "stream",
     "text": [
      "Concluded loop 5 with error 24.\n"
     ]
    },
    {
     "name": "stdout",
     "output_type": "stream",
     "text": [
      "Concluded loop 6 with error 24.\n"
     ]
    },
    {
     "name": "stdout",
     "output_type": "stream",
     "text": [
      "Concluded loop 7 with error 24.\n"
     ]
    },
    {
     "name": "stdout",
     "output_type": "stream",
     "text": [
      "Concluded loop 8 with error 0.\n",
      "TOC: Elapsed: 0:00:11.58\n",
      "Solved model using HPI in 11.58197 seconds.\n",
      "TOC: Elapsed: 0:00:11.58\n",
      "Solving model via using VFI.\n"
     ]
    },
    {
     "name": "stdout",
     "output_type": "stream",
     "text": [
      "Completed iteration 25 with error 0.561291818742589.\n"
     ]
    },
    {
     "name": "stdout",
     "output_type": "stream",
     "text": [
      "Completed iteration 50 with error 0.37760311527087964.\n"
     ]
    },
    {
     "name": "stdout",
     "output_type": "stream",
     "text": [
      "Completed iteration 75 with error 0.22781271574231.\n"
     ]
    },
    {
     "name": "stdout",
     "output_type": "stream",
     "text": [
      "Completed iteration 100 with error 0.12966912474841052.\n"
     ]
    },
    {
     "name": "stdout",
     "output_type": "stream",
     "text": [
      "Completed iteration 125 with error 0.06841133244554953.\n"
     ]
    },
    {
     "name": "stdout",
     "output_type": "stream",
     "text": [
      "Completed iteration 150 with error 0.03108826968598777.\n"
     ]
    },
    {
     "name": "stdout",
     "output_type": "stream",
     "text": [
      "Completed iteration 175 with error 0.014717604780905447.\n"
     ]
    },
    {
     "name": "stdout",
     "output_type": "stream",
     "text": [
      "Completed iteration 200 with error 0.007728671529960707.\n"
     ]
    },
    {
     "name": "stdout",
     "output_type": "stream",
     "text": [
      "Completed iteration 225 with error 0.0041302272069572155.\n"
     ]
    },
    {
     "name": "stdout",
     "output_type": "stream",
     "text": [
      "Completed iteration 250 with error 0.002206459813073991.\n"
     ]
    },
    {
     "name": "stdout",
     "output_type": "stream",
     "text": [
      "Completed iteration 275 with error 0.0011779116780914478.\n"
     ]
    },
    {
     "name": "stdout",
     "output_type": "stream",
     "text": [
      "Completed iteration 300 with error 0.0006285733275817051.\n"
     ]
    },
    {
     "name": "stdout",
     "output_type": "stream",
     "text": [
      "Completed iteration 325 with error 0.0003353535262320406.\n"
     ]
    },
    {
     "name": "stdout",
     "output_type": "stream",
     "text": [
      "Completed iteration 350 with error 0.00017889424245964847.\n"
     ]
    },
    {
     "name": "stdout",
     "output_type": "stream",
     "text": [
      "Completed iteration 375 with error 9.54245640016893e-05.\n"
     ]
    },
    {
     "name": "stdout",
     "output_type": "stream",
     "text": [
      "Completed iteration 400 with error 5.08987992517973e-05.\n"
     ]
    },
    {
     "name": "stdout",
     "output_type": "stream",
     "text": [
      "Completed iteration 425 with error 2.714849425444754e-05.\n"
     ]
    },
    {
     "name": "stdout",
     "output_type": "stream",
     "text": [
      "Completed iteration 450 with error 1.448034407758314e-05.\n"
     ]
    },
    {
     "name": "stdout",
     "output_type": "stream",
     "text": [
      "Completed iteration 475 with error 7.723411918902912e-06.\n"
     ]
    },
    {
     "name": "stdout",
     "output_type": "stream",
     "text": [
      "Completed iteration 500 with error 4.119437804206427e-06.\n"
     ]
    },
    {
     "name": "stdout",
     "output_type": "stream",
     "text": [
      "Completed iteration 525 with error 2.1971809971432776e-06.\n"
     ]
    },
    {
     "name": "stdout",
     "output_type": "stream",
     "text": [
      "Completed iteration 550 with error 1.1719072361415783e-06.\n"
     ]
    },
    {
     "name": "stdout",
     "output_type": "stream",
     "text": [
      "Terminated successfully in 558 iterations.\n"
     ]
    },
    {
     "name": "stdout",
     "output_type": "stream",
     "text": [
      "TOC: Elapsed: 0:10:37.01\n",
      "Solved model using VFI in 637.01235 seconds.\n",
      "TOC: Elapsed: 0:10:37.01\n",
      "Solving model via using OPI.\n"
     ]
    },
    {
     "name": "stdout",
     "output_type": "stream",
     "text": [
      "Completed iteration 10 with error 0.6480358762326102.\n"
     ]
    },
    {
     "name": "stdout",
     "output_type": "stream",
     "text": [
      "Completed iteration 20 with error 0.5949305169605914.\n"
     ]
    },
    {
     "name": "stdout",
     "output_type": "stream",
     "text": [
      "Completed iteration 30 with error 0.5251459484602314.\n"
     ]
    },
    {
     "name": "stdout",
     "output_type": "stream",
     "text": [
      "Completed iteration 40 with error 0.4502411260545358.\n"
     ]
    },
    {
     "name": "stdout",
     "output_type": "stream",
     "text": [
      "Completed iteration 50 with error 0.3776031152708761.\n"
     ]
    },
    {
     "name": "stdout",
     "output_type": "stream",
     "text": [
      "Completed iteration 60 with error 0.3113925226324419.\n"
     ]
    },
    {
     "name": "stdout",
     "output_type": "stream",
     "text": [
      "Completed iteration 70 with error 0.25348563920216094.\n"
     ]
    },
    {
     "name": "stdout",
     "output_type": "stream",
     "text": [
      "Completed iteration 80 with error 0.20428999885410093.\n"
     ]
    },
    {
     "name": "stdout",
     "output_type": "stream",
     "text": [
      "Completed iteration 90 with error 0.1633451023325989.\n"
     ]
    },
    {
     "name": "stdout",
     "output_type": "stream",
     "text": [
      "Completed iteration 100 with error 0.12966912474841052.\n"
     ]
    },
    {
     "name": "stdout",
     "output_type": "stream",
     "text": [
      "Completed iteration 110 with error 0.10191243757392954.\n"
     ]
    },
    {
     "name": "stdout",
     "output_type": "stream",
     "text": [
      "Completed iteration 120 with error 0.07865530805722187.\n"
     ]
    },
    {
     "name": "stdout",
     "output_type": "stream",
     "text": [
      "Completed iteration 130 with error 0.05904856720101037.\n"
     ]
    },
    {
     "name": "stdout",
     "output_type": "stream",
     "text": [
      "Completed iteration 140 with error 0.043112055223730295.\n"
     ]
    },
    {
     "name": "stdout",
     "output_type": "stream",
     "text": [
      "Completed iteration 150 with error 0.03108826968598777.\n"
     ]
    },
    {
     "name": "stdout",
     "output_type": "stream",
     "text": [
      "Completed iteration 160 with error 0.022647420777794025.\n"
     ]
    },
    {
     "name": "stdout",
     "output_type": "stream",
     "text": [
      "Completed iteration 170 with error 0.01689273636191757.\n"
     ]
    },
    {
     "name": "stdout",
     "output_type": "stream",
     "text": [
      "Completed iteration 180 with error 0.012879757243666745.\n"
     ]
    },
    {
     "name": "stdout",
     "output_type": "stream",
     "text": [
      "Completed iteration 190 with error 0.009949277899586662.\n"
     ]
    },
    {
     "name": "stdout",
     "output_type": "stream",
     "text": [
      "Completed iteration 200 with error 0.007728671529960707.\n"
     ]
    },
    {
     "name": "stdout",
     "output_type": "stream",
     "text": [
      "Completed iteration 210 with error 0.006014172995399747.\n"
     ]
    },
    {
     "name": "stdout",
     "output_type": "stream",
     "text": [
      "Completed iteration 220 with error 0.0046814651373523475.\n"
     ]
    },
    {
     "name": "stdout",
     "output_type": "stream",
     "text": [
      "Completed iteration 230 with error 0.0036437639326720728.\n"
     ]
    },
    {
     "name": "stdout",
     "output_type": "stream",
     "text": [
      "Completed iteration 240 with error 0.002835651991937027.\n"
     ]
    },
    {
     "name": "stdout",
     "output_type": "stream",
     "text": [
      "Completed iteration 250 with error 0.002206459813073991.\n"
     ]
    },
    {
     "name": "stdout",
     "output_type": "stream",
     "text": [
      "Completed iteration 260 with error 0.001716684887533404.\n"
     ]
    },
    {
     "name": "stdout",
     "output_type": "stream",
     "text": [
      "Completed iteration 270 with error 0.001335508294864951.\n"
     ]
    },
    {
     "name": "stdout",
     "output_type": "stream",
     "text": [
      "Completed iteration 280 with error 0.001038896093632502.\n"
     ]
    },
    {
     "name": "stdout",
     "output_type": "stream",
     "text": [
      "Completed iteration 290 with error 0.0008081157057162613.\n"
     ]
    },
    {
     "name": "stdout",
     "output_type": "stream",
     "text": [
      "Completed iteration 300 with error 0.0006285733275817051.\n"
     ]
    },
    {
     "name": "stdout",
     "output_type": "stream",
     "text": [
      "Completed iteration 310 with error 0.0004889036860333817.\n"
     ]
    },
    {
     "name": "stdout",
     "output_type": "stream",
     "text": [
      "Completed iteration 320 with error 0.00038025837859834155.\n"
     ]
    },
    {
     "name": "stdout",
     "output_type": "stream",
     "text": [
      "Completed iteration 330 with error 0.00029575008841931094.\n"
     ]
    },
    {
     "name": "stdout",
     "output_type": "stream",
     "text": [
      "Completed iteration 340 with error 0.00023001891724305779.\n"
     ]
    },
    {
     "name": "stdout",
     "output_type": "stream",
     "text": [
      "Completed iteration 350 with error 0.00017889424245964847.\n"
     ]
    },
    {
     "name": "stdout",
     "output_type": "stream",
     "text": [
      "Completed iteration 360 with error 0.00013913120260866663.\n"
     ]
    },
    {
     "name": "stdout",
     "output_type": "stream",
     "text": [
      "Completed iteration 370 with error 0.00010820542954803614.\n"
     ]
    },
    {
     "name": "stdout",
     "output_type": "stream",
     "text": [
      "Completed iteration 380 with error 8.415320764498802e-05.\n"
     ]
    },
    {
     "name": "stdout",
     "output_type": "stream",
     "text": [
      "Completed iteration 390 with error 6.544703997946044e-05.\n"
     ]
    },
    {
     "name": "stdout",
     "output_type": "stream",
     "text": [
      "Completed iteration 400 with error 5.08987992517973e-05.\n"
     ]
    },
    {
     "name": "stdout",
     "output_type": "stream",
     "text": [
      "Completed iteration 410 with error 3.958436084161576e-05.\n"
     ]
    },
    {
     "name": "stdout",
     "output_type": "stream",
     "text": [
      "Completed iteration 420 with error 3.0784961055019266e-05.\n"
     ]
    },
    {
     "name": "stdout",
     "output_type": "stream",
     "text": [
      "Completed iteration 430 with error 2.3941573402908034e-05.\n"
     ]
    },
    {
     "name": "stdout",
     "output_type": "stream",
     "text": [
      "Completed iteration 440 with error 1.861941635183939e-05.\n"
     ]
    },
    {
     "name": "stdout",
     "output_type": "stream",
     "text": [
      "Completed iteration 450 with error 1.4480344070477713e-05.\n"
     ]
    },
    {
     "name": "stdout",
     "output_type": "stream",
     "text": [
      "Completed iteration 460 with error 1.1261370822523986e-05.\n"
     ]
    },
    {
     "name": "stdout",
     "output_type": "stream",
     "text": [
      "Completed iteration 470 with error 8.757966710959408e-06.\n"
     ]
    },
    {
     "name": "stdout",
     "output_type": "stream",
     "text": [
      "Completed iteration 480 with error 6.81106531885689e-06.\n"
     ]
    },
    {
     "name": "stdout",
     "output_type": "stream",
     "text": [
      "Completed iteration 490 with error 5.296958661915596e-06.\n"
     ]
    },
    {
     "name": "stdout",
     "output_type": "stream",
     "text": [
      "Completed iteration 500 with error 4.119437804206427e-06.\n"
     ]
    },
    {
     "name": "stdout",
     "output_type": "stream",
     "text": [
      "Completed iteration 510 with error 3.2036803787605095e-06.\n"
     ]
    },
    {
     "name": "stdout",
     "output_type": "stream",
     "text": [
      "Completed iteration 520 with error 2.491496637446744e-06.\n"
     ]
    },
    {
     "name": "stdout",
     "output_type": "stream",
     "text": [
      "Completed iteration 530 with error 1.9376322057951256e-06.\n"
     ]
    },
    {
     "name": "stdout",
     "output_type": "stream",
     "text": [
      "Completed iteration 540 with error 1.506892658653669e-06.\n"
     ]
    },
    {
     "name": "stdout",
     "output_type": "stream",
     "text": [
      "Completed iteration 550 with error 1.1719072361415783e-06.\n"
     ]
    },
    {
     "name": "stdout",
     "output_type": "stream",
     "text": [
      "TOC: Elapsed: 0:11:1.97\n",
      "Solved model using OPI in 661.97691 seconds.\n",
      "TOC: Elapsed: 0:11:1.97\n",
      "Solving model via using OPI.\n"
     ]
    },
    {
     "name": "stdout",
     "output_type": "stream",
     "text": [
      "Completed iteration 10 with error 0.23575181290819813.\n"
     ]
    },
    {
     "name": "stdout",
     "output_type": "stream",
     "text": [
      "Completed iteration 20 with error 0.001229255528706119.\n"
     ]
    },
    {
     "name": "stdout",
     "output_type": "stream",
     "text": [
      "Completed iteration 30 with error 6.262373965171264e-06.\n"
     ]
    },
    {
     "name": "stdout",
     "output_type": "stream",
     "text": [
      "TOC: Elapsed: 0:00:54.41\n",
      "Solved model using OPI in 54.41828 seconds.\n",
      "TOC: Elapsed: 0:00:54.41\n",
      "Solving model via using OPI.\n"
     ]
    },
    {
     "name": "stdout",
     "output_type": "stream",
     "text": [
      "Completed iteration 10 with error 0.021172106956534265.\n"
     ]
    },
    {
     "name": "stdout",
     "output_type": "stream",
     "text": [
      "Completed iteration 20 with error 6.989141141389155e-07.\n"
     ]
    },
    {
     "name": "stdout",
     "output_type": "stream",
     "text": [
      "TOC: Elapsed: 0:00:40.15\n",
      "Solved model using OPI in 40.15134 seconds.\n",
      "TOC: Elapsed: 0:00:40.15\n",
      "Solving model via using OPI.\n"
     ]
    },
    {
     "name": "stdout",
     "output_type": "stream",
     "text": [
      "Completed iteration 10 with error 0.002919326747964135.\n"
     ]
    },
    {
     "name": "stdout",
     "output_type": "stream",
     "text": [
      "TOC: Elapsed: 0:00:38.57\n",
      "Solved model using OPI in 38.57131 seconds.\n",
      "TOC: Elapsed: 0:00:38.57\n",
      "Solving model via using OPI.\n"
     ]
    },
    {
     "name": "stdout",
     "output_type": "stream",
     "text": [
      "Completed iteration 10 with error 0.00035446903334701574.\n"
     ]
    },
    {
     "name": "stdout",
     "output_type": "stream",
     "text": [
      "TOC: Elapsed: 0:00:36.72\n",
      "Solved model using OPI in 36.72083 seconds.\n",
      "TOC: Elapsed: 0:00:36.72\n"
     ]
    },
    {
     "data": {
      "image/png": "[encoded data removed]",
      "text/plain": [
       "<Figure size 900x520 with 1 Axes>"
      ]
     },
     "metadata": {},
     "output_type": "display_data"
    }
   ],
   "source": [
    "hpi_time, vfi_time, opi_times = test_timing_numpy(model)"
   ]
  }
 ],
 "metadata": {
  "jupytext": {
   "cell_metadata_filter": "-all",
   "main_language": "python",
   "notebook_metadata_filter": "-all"
  },
  "kernelspec": {
   "display_name": "Python 3 (ipykernel)",
   "language": "python",
   "name": "python3"
  },
  "language_info": {
   "codemirror_mode": {
    "name": "ipython",
    "version": 3
   },
   "file_extension": ".py",
   "mimetype": "text/x-python",
   "name": "python",
   "nbconvert_exporter": "python",
   "pygments_lexer": "ipython3",
   "version": "3.10.9"
  }
 },
 "nbformat": 4,
 "nbformat_minor": 5
}
